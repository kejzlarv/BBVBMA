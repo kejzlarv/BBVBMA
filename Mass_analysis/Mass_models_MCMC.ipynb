{
 "cells": [
  {
   "cell_type": "markdown",
   "id": "e678909f",
   "metadata": {},
   "source": [
    "# Packages"
   ]
  },
  {
   "cell_type": "code",
   "execution_count": 189,
   "id": "a8a51e57",
   "metadata": {},
   "outputs": [],
   "source": [
    "import sklearn.gaussian_process.kernels as skl\n",
    "import pymc3 as pm\n",
    "import theano.tensor as tt\n",
    "import theano\n",
    "import torch\n",
    "import time\n",
    "from tqdm.notebook import tqdm # Loop counter\n",
    "\n",
    "import pandas as pd\n",
    "import numpy as np\n",
    "import time\n",
    "import matplotlib.pyplot as plt\n",
    "import copy\n",
    "import os\n",
    "import pickle as pkl\n",
    "import sys\n",
    "import sklearn.gaussian_process.kernels as skl\n",
    "from matplotlib import gridspec"
   ]
  },
  {
   "cell_type": "markdown",
   "id": "2ea0849b",
   "metadata": {},
   "source": [
    "# Utilities"
   ]
  },
  {
   "cell_type": "code",
   "execution_count": 190,
   "id": "33853a17",
   "metadata": {},
   "outputs": [],
   "source": [
    "def observations_scale(x):\n",
    "    return x[:, -1]\n",
    "\n",
    "\n",
    "def evidence_integral(data_input, priors_dictionary, n_mc = 10000):\n",
    "    with pm.Model() as gp_mass:\n",
    "\n",
    "        # Priors\n",
    "        noise = pm.Lognormal(\"sigma2\", mu = float(priors_dictionary[\"sigma2\"][0]),\n",
    "                         sigma = priors_dictionary[\"sigma2\"][1])\n",
    "\n",
    "\n",
    "        ### Kernel delta hyperparameters priors\n",
    "        ## length scales\n",
    "        if priors_dictionary[\"kernel_delta_l\"][2]> 1:\n",
    "            kernel_delta_l = pm.Lognormal(\"kernel_delta_l\", mu = priors_dictionary[\"kernel_delta_l\"][0],\n",
    "                                      sigma = priors_dictionary[\"kernel_delta_l\"][1],\n",
    "                                      shape = priors_dictionary[\"kernel_delta_l\"][2])\n",
    "        else:\n",
    "            kernel_delta_l = pm.Lognormal(\"kernel_delta_l\", mu = np.float(priors_dictionary[\"kernel_delta_l\"][0]),\n",
    "                                  sigma = np.float(priors_dictionary[\"kernel_delta_l\"][1]))\n",
    "        ## eta\n",
    "        kernel_delta_eta = pm.Lognormal(\"kernel_delta_eta\", mu = float(priors_dictionary[\"kernel_delta_eta\"][0]),\n",
    "                                    sigma = float(priors_dictionary[\"kernel_delta_eta\"][1]))\n",
    "\n",
    "        ## Means priors\n",
    "\n",
    "\n",
    "        if \"mean_delta\" in priors_dictionary:\n",
    "            if priors_dictionary[\"mean_delta\"][2] > 1:\n",
    "                mean_delta = pm.Normal(\"mean_delta\", mu = priors_dictionary[\"mean_delta\"][0],\n",
    "                                       sd = priors_dictionary[\"mean_delta\"][1],\n",
    "                                       shape = priors_dictionary[\"mean_delta\"][2])\n",
    "            else:\n",
    "                mean_delta = pm.Normal(\"mean_delta\", mu = float(priors_dictionary[\"mean_delta\"][0]),\n",
    "                                       sd = float(priors_dictionary[\"mean_delta\"][1]))\n",
    "\n",
    "\n",
    "        # Noise covariance\n",
    "        cov_noise = pm.gp.cov.WhiteNoise(tt.sqrt(noise))\n",
    "\n",
    "        # Systematic discrepancy covariance\n",
    "        cov_delta = kernel_delta_eta ** 2 * pm.gp.cov.ExpQuad(2, ls = kernel_delta_l)\n",
    "\n",
    "\n",
    "        # Complete covariance specification\n",
    "        K = cov_delta(data_input[\"X\"]) + cov_noise(data_input[\"X\"])\n",
    "        # Mean definition\n",
    "        # Mean f\n",
    "        mu = mean_delta * np.ones(len(data_input[\"Response\"]))\n",
    "\n",
    "        obs = pm.MvNormal('obs', mu = mu, cov = K, observed = data_input[\"Response\"])\n",
    "        \n",
    "        np.random.seed(0)\n",
    "\n",
    "    with pm.Model() as priors_model:\n",
    "\n",
    "        noise = pm.Lognormal(\"sigma2\", mu = float(priors_dictionary[\"sigma2\"][0]),\n",
    "                         sigma = priors_dictionary[\"sigma2\"][1])\n",
    "\n",
    "\n",
    "                ### Kernel delta hyperparameters priors\n",
    "                ## length scales\n",
    "        if priors_dictionary[\"kernel_delta_l\"][2]> 1:\n",
    "            kernel_delta_l = pm.Lognormal(\"kernel_delta_l\", mu = priors_dictionary[\"kernel_delta_l\"][0],\n",
    "                                      sigma = priors_dictionary[\"kernel_delta_l\"][1],\n",
    "                                      shape = priors_dictionary[\"kernel_delta_l\"][2])\n",
    "        else:\n",
    "            kernel_delta_l = pm.Lognormal(\"kernel_delta_l\", mu = np.float(priors_dictionary[\"kernel_delta_l\"][0]),\n",
    "                                  sigma = np.float(priors_dictionary[\"kernel_delta_l\"][1]))\n",
    "        ## eta\n",
    "        kernel_delta_eta = pm.Lognormal(\"kernel_delta_eta\", mu = float(priors_dictionary[\"kernel_delta_eta\"][0]),\n",
    "                                    sigma = float(priors_dictionary[\"kernel_delta_eta\"][1]))\n",
    "\n",
    "        ## Means priors\n",
    "\n",
    "\n",
    "        if \"mean_delta\" in priors_dictionary:\n",
    "            if priors_dictionary[\"mean_delta\"][2] > 1:\n",
    "                mean_delta = pm.Normal(\"mean_delta\", mu = priors_dictionary[\"mean_delta\"][0],\n",
    "                                       sd = priors_dictionary[\"mean_delta\"][1],\n",
    "                                       shape = priors_dictionary[\"mean_delta\"][2])\n",
    "            else:\n",
    "                mean_delta = pm.Normal(\"mean_delta\", mu = float(priors_dictionary[\"mean_delta\"][0]),\n",
    "                                       sd = float(priors_dictionary[\"mean_delta\"][1]))\n",
    "                \n",
    "        trace_priors = pm.sample(n_mc, tune = 10000, chains = 1)\n",
    "\n",
    "\n",
    "    log_likelihood = np.empty(0)\n",
    "    mc_integral = np.empty(n_mc)\n",
    "\n",
    "    logp = obs.logp\n",
    "\n",
    "    for i in tqdm(range(n_mc), desc = \"Log likelihood eval\"):\n",
    "        log_likelihood = np.append(log_likelihood, logp(trace_priors[i], transfrom = None))\n",
    "\n",
    "    for i in tqdm(range(n_mc), desc = \"Integral calc\"):\n",
    "        m = max(log_likelihood[:(i + 1)])\n",
    "        mc_integral[i] = (np.exp(m) * np.sum(np.exp(log_likelihood[:(i + 1)] - m))) / (i + 1)\n",
    "        \n",
    "\n",
    "    return mc_integral, log_likelihood"
   ]
  },
  {
   "cell_type": "markdown",
   "id": "baf3f2f5",
   "metadata": {},
   "source": [
    "# AME data preprocessiong"
   ]
  },
  {
   "cell_type": "code",
   "execution_count": 191,
   "id": "de59471e",
   "metadata": {},
   "outputs": [
    {
     "name": "stdout",
     "output_type": "stream",
     "text": [
      "        Z    N      exp       sd      SKM      SKP      SLY4    SVMIN  \\\n",
      "0       2    4  0.97545    5e-05  7.16891  6.17571   5.43824  3.98792   \n",
      "1       2    6  2.12505   0.0001  2.54031  0.97832  0.402399  1.44276   \n",
      "2       3    4  12.9144     0.05  14.9108  14.8107   14.1642  12.0455   \n",
      "3       3    6  6.09484  0.00019  9.23278  7.94095   7.75287  8.18013   \n",
      "4       3    8  0.36928  0.00064  2.20105  1.52635    1.5789  2.72982   \n",
      "...   ...  ...      ...      ...      ...      ...       ...      ...   \n",
      "1156  102  152  14.2907  0.01337  14.4744  13.7689   13.3826  13.8442   \n",
      "1157  102  154  13.0439  0.01232  13.4624  13.2137   12.3785  13.0527   \n",
      "1158  104  154  14.0236   0.0366  14.4146  14.1158   13.3347  13.9626   \n",
      "1159  106  156  14.3244  0.04092  14.7752  14.4959   13.7949  14.2829   \n",
      "1160  108  158  14.5695  0.04828  15.5506  14.8156   14.5353  14.8307   \n",
      "\n",
      "        UNEDF0   UNEDF1      A      AME2016     S2n_16      AME2003     S2n_03  \n",
      "0       5.2988  4.53857    6.0    29.271114   0.975454    29.268102   0.972442  \n",
      "1     0.772771  1.36574    8.0    31.396160   2.125046    31.407800   2.139698  \n",
      "2      14.6631  13.0851    7.0    39.245073  12.914413    39.244037  12.913377  \n",
      "3      7.89672  8.44314    9.0    45.339912   6.094839    45.340551   6.096514  \n",
      "4       1.8809  2.58538   11.0    45.709191   0.369279    45.640144   0.299593  \n",
      "...        ...      ...    ...          ...        ...          ...        ...  \n",
      "1156    13.737  13.6586  254.0  1885.591860  14.290764  1885.590844  14.299324  \n",
      "1157   13.1793  12.7838  256.0  1898.635776  13.043916  1898.633984  13.043140  \n",
      "1158   14.0512  13.6757  258.0  1904.694804  14.023700          NaN        NaN  \n",
      "1159   14.4046  13.9638  262.0  1923.390470  14.324350          NaN        NaN  \n",
      "1160   14.8042  14.6052  266.0  1941.340618  14.569618          NaN        NaN  \n",
      "\n",
      "[1161 rows x 15 columns]\n",
      "        Z    N      exp       sd      SKM      SKP      SLY4    SVMIN  \\\n",
      "0       2    4  0.97545    5e-05  7.16891  6.17571   5.43824  3.98792   \n",
      "1       2    6  2.12505   0.0001  2.54031  0.97832  0.402399  1.44276   \n",
      "2       3    4  12.9144     0.05  14.9108  14.8107   14.1642  12.0455   \n",
      "3       3    6  6.09484  0.00019  9.23278  7.94095   7.75287  8.18013   \n",
      "4       3    8  0.36928  0.00064  2.20105  1.52635    1.5789  2.72982   \n",
      "...   ...  ...      ...      ...      ...      ...       ...      ...   \n",
      "1152  100  154  12.0555  0.00581  12.5893  12.3107   11.4082  12.1585   \n",
      "1153  100  156  11.5586  0.00604  12.0688   11.819   10.9233  11.5932   \n",
      "1155  101  156  11.9926  0.00664  12.4723  12.2522   11.3658  12.0054   \n",
      "1156  102  152  14.2907  0.01337  14.4744  13.7689   13.3826  13.8442   \n",
      "1157  102  154  13.0439  0.01232  13.4624  13.2137   12.3785  13.0527   \n",
      "\n",
      "        UNEDF0   UNEDF1      A      AME2016     S2n_16      AME2003     S2n_03  \n",
      "0       5.2988  4.53857    6.0    29.271114   0.975454    29.268102   0.972442  \n",
      "1     0.772771  1.36574    8.0    31.396160   2.125046    31.407800   2.139698  \n",
      "2      14.6631  13.0851    7.0    39.245073  12.914413    39.244037  12.913377  \n",
      "3      7.89672  8.44314    9.0    45.339912   6.094839    45.340551   6.096514  \n",
      "4       1.8809  2.58538   11.0    45.709191   0.369279    45.640144   0.299593  \n",
      "...        ...      ...    ...          ...        ...          ...        ...  \n",
      "1152   12.3152  11.9042  254.0  1890.977168  12.055592  1890.975644  12.055832  \n",
      "1153   11.8291  11.3362  256.0  1902.535680  11.558512  1902.536448  11.560804  \n",
      "1155   12.2317  11.7352  257.0  1906.318574  11.992679  1906.315233  11.989338  \n",
      "1156    13.737  13.6586  254.0  1885.591860  14.290764  1885.590844  14.299324  \n",
      "1157   13.1793  12.7838  256.0  1898.635776  13.043916  1898.633984  13.043140  \n",
      "\n",
      "[1029 rows x 15 columns]\n"
     ]
    }
   ],
   "source": [
    "# AME2003\n",
    "masses03 = pd.read_fwf('mass.mas03', usecols=(2,3,4,11),\n",
    "              names=('N', 'Z', 'A', 'avEbind'),\n",
    "              widths=(1,3,5,5,5,1,3,4,1,13,11,11,9,1,2,11,9,1,3,1,12,11,1),\n",
    "              header=39,\n",
    "              index_col=False)\n",
    "masses03['avEbind'] = pd.to_numeric(masses03['avEbind'], errors='coerce')\n",
    "masses03 = masses03.dropna()\n",
    "masses03 = masses03.drop(0)\n",
    "masses03['BE_per_A'] = masses03['avEbind'] / 1000\n",
    "masses03['AME2003'] = masses03['BE_per_A'] * masses03['A']\n",
    "masses03[\"S2n_03\"] = np.nan\n",
    "masses03 = masses03.drop(columns = ['avEbind', 'BE_per_A'])\n",
    "\n",
    "for index, row in masses03.iterrows():\n",
    "    if np.any((masses03[\"N\"] == (row[\"N\"] - 2)) & (masses03[\"Z\"] == row[\"Z\"])):\n",
    "        masses03.loc[(masses03[\"N\"] == (row[\"N\"])) & (masses03[\"Z\"] == row[\"Z\"]), \"S2n_03\"] = masses03[(masses03[\"N\"] == (row[\"N\"])) & (masses03[\"Z\"] == row[\"Z\"])][\"AME2003\"].squeeze()  -  masses03[(masses03[\"N\"] == (row[\"N\"] - 2)) & (masses03[\"Z\"] == row[\"Z\"])][\"AME2003\"].squeeze()  \n",
    "masses03 = masses03.dropna()\n",
    "masses03 =  masses03.loc[(masses03[\"N\"] % 2) == 0,]\n",
    "masses03 = masses03.loc[masses03[\"Z\"] > 1]\n",
    "\n",
    "# AME2016\n",
    "masses16 = pd.read_fwf('mass16.txt', usecols=(2,3,4,11),\n",
    "              names=('N', 'Z', 'A', 'avEbind'),\n",
    "              widths=(1,3,5,5,5,1,3,4,1,13,11,11,9,1,2,11,9,1,3,1,12,11,1),\n",
    "              header=39,\n",
    "              index_col=False)\n",
    "masses16['avEbind'] = pd.to_numeric(masses16['avEbind'], errors='coerce')\n",
    "masses16 = masses16.dropna()\n",
    "masses16 = masses16.drop(0)\n",
    "masses16['BE_per_A'] = masses16['avEbind'] / 1000\n",
    "masses16['AME2016'] = masses16['BE_per_A'] * masses16['A']\n",
    "masses16[\"S2n_16\"] = np.nan\n",
    "masses16 = masses16.drop(columns = ['avEbind', 'BE_per_A'])\n",
    "\n",
    "for index, row in masses16.iterrows():\n",
    "    if np.any((masses16[\"N\"] == (row[\"N\"] - 2)) & (masses16[\"Z\"] == row[\"Z\"])):\n",
    "        masses16.loc[(masses16[\"N\"] == (row[\"N\"])) & (masses16[\"Z\"] == row[\"Z\"]), \"S2n_16\"] = masses16[(masses16[\"N\"] == (row[\"N\"])) & (masses16[\"Z\"] == row[\"Z\"])][\"AME2016\"].squeeze()  -  masses16[(masses16[\"N\"] == (row[\"N\"] - 2)) & (masses16[\"Z\"] == row[\"Z\"])][\"AME2016\"].squeeze()  \n",
    "masses16 = masses16.dropna()\n",
    "masses16 =  masses16.loc[(masses16[\"N\"] % 2) == 0,]\n",
    "masses16 = masses16.loc[masses16[\"Z\"] > 1]\n",
    "\n",
    "masses_merge = pd.merge(masses16, masses03, on = [\"N\", \"Z\", \"A\"], how = \"left\")\n",
    "\n",
    "# Adding model evaluations\n",
    "exp = ['exp']\n",
    "models = ['SKM*', 'SKP', 'SLY4', 'SVMIN', 'UNEDF0', 'UNEDF1']\n",
    "xls = pd.ExcelFile('separations_energies_NEW2018.xls')\n",
    "#xls = pd.ExcelFile('separations_energies_AME2003.xls')\n",
    "data_raw = pd.read_excel(xls, header=[0,3], sheet_name = 'S2n')\n",
    "\n",
    "data_raw_sub = data_raw.T.loc[[('-', 'Z'), ('-', 'N'), ('exp', 'measure'), ('exp', 'sd'), (models[0], 'mean'), (models[1], 'mean'),\n",
    "               (models[2], 'mean'),(models[3], 'mean'),(models[4], 'mean'),(models[5], 'mean')]].T\n",
    "data_raw_sub.columns = ['_'.join(col) for col in data_raw_sub.columns.values]\n",
    "data_raw_sub.columns = ['Z', 'N'] + ['exp'] + ['sd'] + models\n",
    "is_na = data_raw_sub[['exp'] + models].notna()\n",
    "is_na = is_na.all(axis = 1)\n",
    "data_raw_sub = data_raw_sub[is_na]\n",
    "data_raw_sub = data_raw_sub.rename(columns={'SKM*': 'SKM'})\n",
    "\n",
    "# This is the final complete set of separation energies to be used for training and testing\n",
    "S2n = pd.merge(data_raw_sub, masses_merge, on = [\"N\", \"Z\"], how = \"left\")\n",
    "print(S2n)\n",
    "\n",
    "# Final training and testing set of S2n observations\n",
    "S2n_test = S2n[S2n['S2n_03'].isna()]\n",
    "S2n_train = S2n[np.invert(S2n['S2n_03'].isna())]\n",
    "S2n_test = S2n_test[np.invert(S2n_test[\"S2n_16\"].isna())]\n",
    "print(S2n_train)"
   ]
  },
  {
   "cell_type": "code",
   "execution_count": 113,
   "id": "f53f2e60",
   "metadata": {},
   "outputs": [
    {
     "data": {
      "text/html": [
       "<div>\n",
       "<style scoped>\n",
       "    .dataframe tbody tr th:only-of-type {\n",
       "        vertical-align: middle;\n",
       "    }\n",
       "\n",
       "    .dataframe tbody tr th {\n",
       "        vertical-align: top;\n",
       "    }\n",
       "\n",
       "    .dataframe thead th {\n",
       "        text-align: right;\n",
       "    }\n",
       "</style>\n",
       "<table border=\"1\" class=\"dataframe\">\n",
       "  <thead>\n",
       "    <tr style=\"text-align: right;\">\n",
       "      <th></th>\n",
       "      <th>Z</th>\n",
       "      <th>N</th>\n",
       "      <th>exp</th>\n",
       "      <th>sd</th>\n",
       "      <th>SKM</th>\n",
       "      <th>SKP</th>\n",
       "      <th>SLY4</th>\n",
       "      <th>SVMIN</th>\n",
       "      <th>UNEDF0</th>\n",
       "      <th>UNEDF1</th>\n",
       "      <th>A</th>\n",
       "      <th>AME2016</th>\n",
       "      <th>S2n_16</th>\n",
       "      <th>AME2003</th>\n",
       "      <th>S2n_03</th>\n",
       "    </tr>\n",
       "  </thead>\n",
       "  <tbody>\n",
       "    <tr>\n",
       "      <td>14</td>\n",
       "      <td>5</td>\n",
       "      <td>14</td>\n",
       "      <td>0.08871</td>\n",
       "      <td>0.56362</td>\n",
       "      <td>3.09594</td>\n",
       "      <td>0.983308</td>\n",
       "      <td>0.484686</td>\n",
       "      <td>1.24547</td>\n",
       "      <td>1.14065</td>\n",
       "      <td>0.91115</td>\n",
       "      <td>19.0</td>\n",
       "      <td>89.673046</td>\n",
       "      <td>0.088707</td>\n",
       "      <td>NaN</td>\n",
       "      <td>NaN</td>\n",
       "    </tr>\n",
       "    <tr>\n",
       "      <td>21</td>\n",
       "      <td>6</td>\n",
       "      <td>16</td>\n",
       "      <td>0.035</td>\n",
       "      <td>0.02</td>\n",
       "      <td>3.37334</td>\n",
       "      <td>1.3939</td>\n",
       "      <td>1.25564</td>\n",
       "      <td>2.00023</td>\n",
       "      <td>1.94645</td>\n",
       "      <td>1.85528</td>\n",
       "      <td>22.0</td>\n",
       "      <td>119.263694</td>\n",
       "      <td>0.034994</td>\n",
       "      <td>NaN</td>\n",
       "      <td>NaN</td>\n",
       "    </tr>\n",
       "    <tr>\n",
       "      <td>27</td>\n",
       "      <td>7</td>\n",
       "      <td>16</td>\n",
       "      <td>4.65412</td>\n",
       "      <td>0.44142</td>\n",
       "      <td>5.98846</td>\n",
       "      <td>4.3354</td>\n",
       "      <td>4.141</td>\n",
       "      <td>4.63265</td>\n",
       "      <td>4.54357</td>\n",
       "      <td>4.40957</td>\n",
       "      <td>23.0</td>\n",
       "      <td>143.443433</td>\n",
       "      <td>4.654118</td>\n",
       "      <td>NaN</td>\n",
       "      <td>NaN</td>\n",
       "    </tr>\n",
       "    <tr>\n",
       "      <td>40</td>\n",
       "      <td>9</td>\n",
       "      <td>20</td>\n",
       "      <td>1.44273</td>\n",
       "      <td>0.6542</td>\n",
       "      <td>2.40393</td>\n",
       "      <td>1.63955</td>\n",
       "      <td>1.74643</td>\n",
       "      <td>2.24543</td>\n",
       "      <td>2.2461</td>\n",
       "      <td>1.66967</td>\n",
       "      <td>29.0</td>\n",
       "      <td>186.876899</td>\n",
       "      <td>1.442735</td>\n",
       "      <td>NaN</td>\n",
       "      <td>NaN</td>\n",
       "    </tr>\n",
       "    <tr>\n",
       "      <td>48</td>\n",
       "      <td>11</td>\n",
       "      <td>8</td>\n",
       "      <td>38.3865</td>\n",
       "      <td>1.00141</td>\n",
       "      <td>36.0828</td>\n",
       "      <td>37.4923</td>\n",
       "      <td>38.4369</td>\n",
       "      <td>37.5689</td>\n",
       "      <td>36.6198</td>\n",
       "      <td>39.5784</td>\n",
       "      <td>19.0</td>\n",
       "      <td>131.819815</td>\n",
       "      <td>38.386455</td>\n",
       "      <td>NaN</td>\n",
       "      <td>NaN</td>\n",
       "    </tr>\n",
       "    <tr>\n",
       "      <td>...</td>\n",
       "      <td>...</td>\n",
       "      <td>...</td>\n",
       "      <td>...</td>\n",
       "      <td>...</td>\n",
       "      <td>...</td>\n",
       "      <td>...</td>\n",
       "      <td>...</td>\n",
       "      <td>...</td>\n",
       "      <td>...</td>\n",
       "      <td>...</td>\n",
       "      <td>...</td>\n",
       "      <td>...</td>\n",
       "      <td>...</td>\n",
       "      <td>...</td>\n",
       "      <td>...</td>\n",
       "    </tr>\n",
       "    <tr>\n",
       "      <td>1129</td>\n",
       "      <td>96</td>\n",
       "      <td>142</td>\n",
       "      <td>14.5525</td>\n",
       "      <td>0.02198</td>\n",
       "      <td>15.1495</td>\n",
       "      <td>14.497</td>\n",
       "      <td>14.3289</td>\n",
       "      <td>14.5526</td>\n",
       "      <td>14.4385</td>\n",
       "      <td>14.3383</td>\n",
       "      <td>238.0</td>\n",
       "      <td>1796.423048</td>\n",
       "      <td>14.552484</td>\n",
       "      <td>NaN</td>\n",
       "      <td>NaN</td>\n",
       "    </tr>\n",
       "    <tr>\n",
       "      <td>1140</td>\n",
       "      <td>98</td>\n",
       "      <td>144</td>\n",
       "      <td>14.7466</td>\n",
       "      <td>0.02267</td>\n",
       "      <td>15.5253</td>\n",
       "      <td>14.8588</td>\n",
       "      <td>14.5387</td>\n",
       "      <td>14.8458</td>\n",
       "      <td>14.7944</td>\n",
       "      <td>14.5828</td>\n",
       "      <td>242.0</td>\n",
       "      <td>1817.201716</td>\n",
       "      <td>14.746516</td>\n",
       "      <td>NaN</td>\n",
       "      <td>NaN</td>\n",
       "    </tr>\n",
       "    <tr>\n",
       "      <td>1158</td>\n",
       "      <td>104</td>\n",
       "      <td>154</td>\n",
       "      <td>14.0236</td>\n",
       "      <td>0.0366</td>\n",
       "      <td>14.4146</td>\n",
       "      <td>14.1158</td>\n",
       "      <td>13.3347</td>\n",
       "      <td>13.9626</td>\n",
       "      <td>14.0512</td>\n",
       "      <td>13.6757</td>\n",
       "      <td>258.0</td>\n",
       "      <td>1904.694804</td>\n",
       "      <td>14.023700</td>\n",
       "      <td>NaN</td>\n",
       "      <td>NaN</td>\n",
       "    </tr>\n",
       "    <tr>\n",
       "      <td>1159</td>\n",
       "      <td>106</td>\n",
       "      <td>156</td>\n",
       "      <td>14.3244</td>\n",
       "      <td>0.04092</td>\n",
       "      <td>14.7752</td>\n",
       "      <td>14.4959</td>\n",
       "      <td>13.7949</td>\n",
       "      <td>14.2829</td>\n",
       "      <td>14.4046</td>\n",
       "      <td>13.9638</td>\n",
       "      <td>262.0</td>\n",
       "      <td>1923.390470</td>\n",
       "      <td>14.324350</td>\n",
       "      <td>NaN</td>\n",
       "      <td>NaN</td>\n",
       "    </tr>\n",
       "    <tr>\n",
       "      <td>1160</td>\n",
       "      <td>108</td>\n",
       "      <td>158</td>\n",
       "      <td>14.5695</td>\n",
       "      <td>0.04828</td>\n",
       "      <td>15.5506</td>\n",
       "      <td>14.8156</td>\n",
       "      <td>14.5353</td>\n",
       "      <td>14.8307</td>\n",
       "      <td>14.8042</td>\n",
       "      <td>14.6052</td>\n",
       "      <td>266.0</td>\n",
       "      <td>1941.340618</td>\n",
       "      <td>14.569618</td>\n",
       "      <td>NaN</td>\n",
       "      <td>NaN</td>\n",
       "    </tr>\n",
       "  </tbody>\n",
       "</table>\n",
       "<p>120 rows × 15 columns</p>\n",
       "</div>"
      ],
      "text/plain": [
       "        Z    N      exp       sd      SKM       SKP      SLY4    SVMIN  \\\n",
       "14      5   14  0.08871  0.56362  3.09594  0.983308  0.484686  1.24547   \n",
       "21      6   16    0.035     0.02  3.37334    1.3939   1.25564  2.00023   \n",
       "27      7   16  4.65412  0.44142  5.98846    4.3354     4.141  4.63265   \n",
       "40      9   20  1.44273   0.6542  2.40393   1.63955   1.74643  2.24543   \n",
       "48     11    8  38.3865  1.00141  36.0828   37.4923   38.4369  37.5689   \n",
       "...   ...  ...      ...      ...      ...       ...       ...      ...   \n",
       "1129   96  142  14.5525  0.02198  15.1495    14.497   14.3289  14.5526   \n",
       "1140   98  144  14.7466  0.02267  15.5253   14.8588   14.5387  14.8458   \n",
       "1158  104  154  14.0236   0.0366  14.4146   14.1158   13.3347  13.9626   \n",
       "1159  106  156  14.3244  0.04092  14.7752   14.4959   13.7949  14.2829   \n",
       "1160  108  158  14.5695  0.04828  15.5506   14.8156   14.5353  14.8307   \n",
       "\n",
       "       UNEDF0   UNEDF1      A      AME2016     S2n_16  AME2003  S2n_03  \n",
       "14    1.14065  0.91115   19.0    89.673046   0.088707      NaN     NaN  \n",
       "21    1.94645  1.85528   22.0   119.263694   0.034994      NaN     NaN  \n",
       "27    4.54357  4.40957   23.0   143.443433   4.654118      NaN     NaN  \n",
       "40     2.2461  1.66967   29.0   186.876899   1.442735      NaN     NaN  \n",
       "48    36.6198  39.5784   19.0   131.819815  38.386455      NaN     NaN  \n",
       "...       ...      ...    ...          ...        ...      ...     ...  \n",
       "1129  14.4385  14.3383  238.0  1796.423048  14.552484      NaN     NaN  \n",
       "1140  14.7944  14.5828  242.0  1817.201716  14.746516      NaN     NaN  \n",
       "1158  14.0512  13.6757  258.0  1904.694804  14.023700      NaN     NaN  \n",
       "1159  14.4046  13.9638  262.0  1923.390470  14.324350      NaN     NaN  \n",
       "1160  14.8042  14.6052  266.0  1941.340618  14.569618      NaN     NaN  \n",
       "\n",
       "[120 rows x 15 columns]"
      ]
     },
     "execution_count": 113,
     "metadata": {},
     "output_type": "execute_result"
    }
   ],
   "source": [
    "S2n_test"
   ]
  },
  {
   "cell_type": "markdown",
   "id": "7e420334",
   "metadata": {},
   "source": [
    "# MCMC"
   ]
  },
  {
   "cell_type": "code",
   "execution_count": 4,
   "id": "49d5eb4a",
   "metadata": {},
   "outputs": [
    {
     "name": "stderr",
     "output_type": "stream",
     "text": [
      "C:\\Users\\Vojtech\\Anaconda3\\lib\\site-packages\\theano\\tensor\\basic.py:6611: FutureWarning: Using a non-tuple sequence for multidimensional indexing is deprecated; use `arr[tuple(seq)]` instead of `arr[seq]`. In the future this will be interpreted as an array index, `arr[np.array(seq)]`, which will result either in an error or a different result.\n",
      "  result[diagonal_slice] = x\n",
      "Only 20 samples in chain.\n",
      "Auto-assigning NUTS sampler...\n",
      "Initializing NUTS using jitter+adapt_diag...\n",
      "C:\\Users\\Vojtech\\Anaconda3\\lib\\site-packages\\theano\\tensor\\basic.py:6611: FutureWarning: Using a non-tuple sequence for multidimensional indexing is deprecated; use `arr[tuple(seq)]` instead of `arr[seq]`. In the future this will be interpreted as an array index, `arr[np.array(seq)]`, which will result either in an error or a different result.\n",
      "  result[diagonal_slice] = x\n",
      "C:\\Users\\Vojtech\\Anaconda3\\lib\\site-packages\\theano\\tensor\\basic.py:6611: FutureWarning: Using a non-tuple sequence for multidimensional indexing is deprecated; use `arr[tuple(seq)]` instead of `arr[seq]`. In the future this will be interpreted as an array index, `arr[np.array(seq)]`, which will result either in an error or a different result.\n",
      "  result[diagonal_slice] = x\n",
      "C:\\Users\\Vojtech\\Anaconda3\\lib\\site-packages\\theano\\tensor\\basic.py:6611: FutureWarning: Using a non-tuple sequence for multidimensional indexing is deprecated; use `arr[tuple(seq)]` instead of `arr[seq]`. In the future this will be interpreted as an array index, `arr[np.array(seq)]`, which will result either in an error or a different result.\n",
      "  result[diagonal_slice] = x\n",
      "C:\\Users\\Vojtech\\Anaconda3\\lib\\site-packages\\theano\\tensor\\basic.py:6611: FutureWarning: Using a non-tuple sequence for multidimensional indexing is deprecated; use `arr[tuple(seq)]` instead of `arr[seq]`. In the future this will be interpreted as an array index, `arr[np.array(seq)]`, which will result either in an error or a different result.\n",
      "  result[diagonal_slice] = x\n",
      "Sequential sampling (1 chains in 1 job)\n",
      "NUTS: [mean_delta, kernel_delta_eta, kernel_delta_l, sigma2]\n",
      "Sampling chain 0, 0 divergences:   0%|                                                          | 0/40 [00:00<?, ?it/s]C:\\Users\\Vojtech\\Anaconda3\\lib\\site-packages\\theano\\tensor\\basic.py:6611: FutureWarning: Using a non-tuple sequence for multidimensional indexing is deprecated; use `arr[tuple(seq)]` instead of `arr[seq]`. In the future this will be interpreted as an array index, `arr[np.array(seq)]`, which will result either in an error or a different result.\n",
      "  result[diagonal_slice] = x\n",
      "Sampling chain 0, 0 divergences: 100%|█████████████████████████████████████████████████| 40/40 [06:12<00:00,  9.32s/it]"
     ]
    },
    {
     "name": "stdout",
     "output_type": "stream",
     "text": [
      "387.4376926422119\n"
     ]
    },
    {
     "name": "stderr",
     "output_type": "stream",
     "text": [
      "\n",
      "C:\\Users\\Vojtech\\Anaconda3\\lib\\site-packages\\pymc3\\sampling.py:496: UserWarning: The number of samples is too small to check convergence reliably.\n",
      "  warnings.warn(\"The number of samples is too small to check convergence reliably.\")\n"
     ]
    }
   ],
   "source": [
    "# Transform function\n",
    "transform_param = torch.nn.Softplus()\n",
    "\n",
    "model_name = \"UNEDF1\"\n",
    "#model_name = sys.argv[1]\n",
    "torch.manual_seed(2)\n",
    "residuals = S2n_train[\"S2n_16\"] - S2n_train[model_name]\n",
    "\n",
    "data_input = {\"Response\": residuals.to_numpy(float).flatten(), \"X\": S2n_train[[\"Z\", \"N\"]].to_numpy(float)}\n",
    "\n",
    "sampler_type = \"NUTS\" # \"MH\" or \"NUTS\"\n",
    "n_tune = 20# Number of tuning samples\n",
    "n_sample = 20 # Number of effective samples\n",
    "\n",
    "\n",
    "#### Priors definition - Simulation\n",
    "priors_dictionary ={\n",
    "                   \"sigma2\": [1, transform_param(torch.tensor(np.sqrt(np.log(2)))).item(), 1],\n",
    "                    \"mean_delta\": [0,1,1],\n",
    "                   \"kernel_delta_l\": [1, transform_param(torch.tensor(np.sqrt(np.log(2)))).item(), 2],\n",
    "                   \"kernel_delta_eta\": [1, transform_param(torch.tensor(np.sqrt(np.log(2)))).item(), 1]}\n",
    "time_array_sampler = np.zeros(2)\n",
    "startTime = time.time()\n",
    "with pm.Model() as full_bayes:\n",
    "    \n",
    "    ## Priors definition\n",
    "    \n",
    "    ## Noise Prior\n",
    "    noise = pm.Lognormal(\"sigma2\", mu = float(priors_dictionary[\"sigma2\"][0]),\n",
    "                     sigma = priors_dictionary[\"sigma2\"][1])\n",
    "    \n",
    "    \n",
    "    ### Kernel delta hyperparameters priors\n",
    "    ## length scales\n",
    "    if priors_dictionary[\"kernel_delta_l\"][2]> 1:\n",
    "        kernel_delta_l = pm.Lognormal(\"kernel_delta_l\", mu = priors_dictionary[\"kernel_delta_l\"][0],\n",
    "                                  sigma = priors_dictionary[\"kernel_delta_l\"][1],\n",
    "                                  shape = priors_dictionary[\"kernel_delta_l\"][2])\n",
    "    else:\n",
    "        kernel_delta_l = pm.Lognormal(\"kernel_delta_l\", mu = np.float(priors_dictionary[\"kernel_delta_l\"][0]),\n",
    "                              sigma = np.float(priors_dictionary[\"kernel_delta_l\"][1]))\n",
    "    ## eta\n",
    "    kernel_delta_eta = pm.Lognormal(\"kernel_delta_eta\", mu = float(priors_dictionary[\"kernel_delta_eta\"][0]),\n",
    "                                sigma = float(priors_dictionary[\"kernel_delta_eta\"][1]))\n",
    "    \n",
    "    ## Means priors\n",
    "            \n",
    "        \n",
    "    if \"mean_delta\" in priors_dictionary:\n",
    "        if priors_dictionary[\"mean_delta\"][2] > 1:\n",
    "            mean_delta = pm.Normal(\"mean_delta\", mu = priors_dictionary[\"mean_delta\"][0],\n",
    "                                   sd = priors_dictionary[\"mean_delta\"][1],\n",
    "                                   shape = priors_dictionary[\"mean_delta\"][2])\n",
    "        else:\n",
    "            mean_delta = pm.Normal(\"mean_delta\", mu = float(priors_dictionary[\"mean_delta\"][0]),\n",
    "                                   sd = float(priors_dictionary[\"mean_delta\"][1]))\n",
    "            \n",
    "            \n",
    "    # Noise covariance\n",
    "    cov_noise = pm.gp.cov.WhiteNoise(tt.sqrt(noise))\n",
    "    \n",
    "    # Systematic discrepancy covariance\n",
    "    cov_delta = kernel_delta_eta ** 2 * pm.gp.cov.ExpQuad(2, ls = kernel_delta_l)\n",
    "    \n",
    "    \n",
    "    # Complete covariance specification\n",
    "    K = cov_delta(data_input[\"X\"]) + cov_noise(data_input[\"X\"])\n",
    "    # Mean definition\n",
    "    # Mean f\n",
    "    mu = mean_delta * np.ones(len(data_input[\"Response\"]))\n",
    "  \n",
    "             \n",
    "    obs = pm.MvNormal('obs', mu = mu, cov = K, observed = data_input[\"Response\"])\n",
    "    if sampler_type == \"MH\":\n",
    "        step = pm.Metropolis()\n",
    "        trace = pm.sample(n_sample, tune= n_tune, chains = 1, step = step, discard_tuned_samples = False)\n",
    "    elif sampler_type == \"NUTS\":\n",
    "        trace = pm.sample(n_sample, tune= n_tune, chains = 1, discard_tuned_samples = False)\n",
    "    # Saves trace    \n",
    "    #pm.backends.ndarray.save_trace(trace, \"trace_\" + model_name + \"_nsample_\" \n",
    "    #                               + str(n_sample) + \"_sampler_\" + sampler_type, overwrite=True)\n",
    "endTime = time.time()\n",
    "print(endTime - startTime)\n",
    "time_array_sampler[1] = endTime - startTime"
   ]
  },
  {
   "cell_type": "code",
   "execution_count": 5,
   "id": "b94174f9",
   "metadata": {},
   "outputs": [
    {
     "name": "stderr",
     "output_type": "stream",
     "text": [
      "C:\\Users\\Vojtech\\Anaconda3\\lib\\site-packages\\theano\\tensor\\basic.py:6611: FutureWarning: Using a non-tuple sequence for multidimensional indexing is deprecated; use `arr[tuple(seq)]` instead of `arr[seq]`. In the future this will be interpreted as an array index, `arr[np.array(seq)]`, which will result either in an error or a different result.\n",
      "  result[diagonal_slice] = x\n"
     ]
    },
    {
     "data": {
      "image/png": "[encoded data removed]",
      "text/plain": [
       "<Figure size 864x576 with 8 Axes>"
      ]
     },
     "metadata": {
      "needs_background": "light"
     },
     "output_type": "display_data"
    }
   ],
   "source": [
    "pm.traceplot(trace[10:])\n",
    "plt.show()"
   ]
  },
  {
   "cell_type": "markdown",
   "id": "50bc9862",
   "metadata": {},
   "source": [
    "# Evidence computation"
   ]
  },
  {
   "cell_type": "code",
   "execution_count": 167,
   "id": "bcdb2e46",
   "metadata": {},
   "outputs": [],
   "source": [
    "model_name = \"UNEDF1\"\n",
    "torch.manual_seed(2)\n",
    "residuals = S2n_train[\"S2n_16\"] - S2n_train[model_name]\n",
    "\n",
    "data_input = {\"Response\": residuals.to_numpy(float).flatten(), \"X\": S2n_train[[\"Z\", \"N\"]].to_numpy(float)}"
   ]
  },
  {
   "cell_type": "code",
   "execution_count": 168,
   "id": "df0ec67d",
   "metadata": {},
   "outputs": [
    {
     "name": "stderr",
     "output_type": "stream",
     "text": [
      "Auto-assigning NUTS sampler...\n",
      "Initializing NUTS using jitter+adapt_diag...\n",
      "Sequential sampling (1 chains in 1 job)\n",
      "NUTS: [mean_delta, kernel_delta_eta, kernel_delta_l, sigma2]\n",
      "Sampling chain 0, 0 divergences: 100%|███████████████████████████████████████| 210000/210000 [01:56<00:00, 1804.34it/s]\n",
      "Only one chain was sampled, this makes it impossible to run some convergence checks\n"
     ]
    },
    {
     "data": {
      "application/vnd.jupyter.widget-view+json": {
       "model_id": "023f53b8ec3e41cfa6cfbe0391715211",
       "version_major": 2,
       "version_minor": 0
      },
      "text/plain": [
       "Log likelihood eval:   0%|          | 0/200000 [00:00<?, ?it/s]"
      ]
     },
     "metadata": {},
     "output_type": "display_data"
    },
    {
     "name": "stderr",
     "output_type": "stream",
     "text": [
      "C:\\Users\\Vojtech\\Anaconda3\\lib\\site-packages\\theano\\tensor\\basic.py:6611: FutureWarning: Using a non-tuple sequence for multidimensional indexing is deprecated; use `arr[tuple(seq)]` instead of `arr[seq]`. In the future this will be interpreted as an array index, `arr[np.array(seq)]`, which will result either in an error or a different result.\n",
      "  result[diagonal_slice] = x\n"
     ]
    },
    {
     "ename": "KeyboardInterrupt",
     "evalue": "",
     "output_type": "error",
     "traceback": [
      "\u001b[1;31m---------------------------------------------------------------------------\u001b[0m",
      "\u001b[1;31mKeyboardInterrupt\u001b[0m                         Traceback (most recent call last)",
      "\u001b[1;32m<ipython-input-168-37393f6f2915>\u001b[0m in \u001b[0;36m<module>\u001b[1;34m\u001b[0m\n\u001b[0;32m      1\u001b[0m \u001b[0mtime_array_evidence\u001b[0m \u001b[1;33m=\u001b[0m \u001b[0mnp\u001b[0m\u001b[1;33m.\u001b[0m\u001b[0mzeros\u001b[0m\u001b[1;33m(\u001b[0m\u001b[1;36m2\u001b[0m\u001b[1;33m)\u001b[0m\u001b[1;33m\u001b[0m\u001b[1;33m\u001b[0m\u001b[0m\n\u001b[0;32m      2\u001b[0m \u001b[0mstartTime\u001b[0m \u001b[1;33m=\u001b[0m \u001b[0mtime\u001b[0m\u001b[1;33m.\u001b[0m\u001b[0mtime\u001b[0m\u001b[1;33m(\u001b[0m\u001b[1;33m)\u001b[0m\u001b[1;33m\u001b[0m\u001b[1;33m\u001b[0m\u001b[0m\n\u001b[1;32m----> 3\u001b[1;33m \u001b[0mmc_integral\u001b[0m\u001b[1;33m,\u001b[0m \u001b[0mlog_likelihood\u001b[0m \u001b[1;33m=\u001b[0m \u001b[0mevidence_integral\u001b[0m\u001b[1;33m(\u001b[0m\u001b[0mdata_input\u001b[0m\u001b[1;33m,\u001b[0m \u001b[0mpriors_dictionary\u001b[0m\u001b[1;33m,\u001b[0m \u001b[0mn_mc\u001b[0m \u001b[1;33m=\u001b[0m \u001b[1;36m200000\u001b[0m\u001b[1;33m)\u001b[0m\u001b[1;33m\u001b[0m\u001b[1;33m\u001b[0m\u001b[0m\n\u001b[0m\u001b[0;32m      4\u001b[0m \u001b[0mendTime\u001b[0m \u001b[1;33m=\u001b[0m \u001b[0mtime\u001b[0m\u001b[1;33m.\u001b[0m\u001b[0mtime\u001b[0m\u001b[1;33m(\u001b[0m\u001b[1;33m)\u001b[0m\u001b[1;33m\u001b[0m\u001b[1;33m\u001b[0m\u001b[0m\n\u001b[0;32m      5\u001b[0m \u001b[0mprint\u001b[0m\u001b[1;33m(\u001b[0m\u001b[0mendTime\u001b[0m \u001b[1;33m-\u001b[0m \u001b[0mstartTime\u001b[0m\u001b[1;33m)\u001b[0m\u001b[1;33m\u001b[0m\u001b[1;33m\u001b[0m\u001b[0m\n",
      "\u001b[1;32m<ipython-input-2-2046aadd8d68>\u001b[0m in \u001b[0;36mevidence_integral\u001b[1;34m(data_input, priors_dictionary, n_mc)\u001b[0m\n\u001b[0;32m     94\u001b[0m \u001b[1;33m\u001b[0m\u001b[0m\n\u001b[0;32m     95\u001b[0m     \u001b[1;32mfor\u001b[0m \u001b[0mi\u001b[0m \u001b[1;32min\u001b[0m \u001b[0mtqdm\u001b[0m\u001b[1;33m(\u001b[0m\u001b[0mrange\u001b[0m\u001b[1;33m(\u001b[0m\u001b[0mn_mc\u001b[0m\u001b[1;33m)\u001b[0m\u001b[1;33m,\u001b[0m \u001b[0mdesc\u001b[0m \u001b[1;33m=\u001b[0m \u001b[1;34m\"Log likelihood eval\"\u001b[0m\u001b[1;33m)\u001b[0m\u001b[1;33m:\u001b[0m\u001b[1;33m\u001b[0m\u001b[1;33m\u001b[0m\u001b[0m\n\u001b[1;32m---> 96\u001b[1;33m         \u001b[0mlog_likelihood\u001b[0m \u001b[1;33m=\u001b[0m \u001b[0mnp\u001b[0m\u001b[1;33m.\u001b[0m\u001b[0mappend\u001b[0m\u001b[1;33m(\u001b[0m\u001b[0mlog_likelihood\u001b[0m\u001b[1;33m,\u001b[0m \u001b[0mlogp\u001b[0m\u001b[1;33m(\u001b[0m\u001b[0mtrace_priors\u001b[0m\u001b[1;33m[\u001b[0m\u001b[0mi\u001b[0m\u001b[1;33m]\u001b[0m\u001b[1;33m,\u001b[0m \u001b[0mtransfrom\u001b[0m \u001b[1;33m=\u001b[0m \u001b[1;32mNone\u001b[0m\u001b[1;33m)\u001b[0m\u001b[1;33m)\u001b[0m\u001b[1;33m\u001b[0m\u001b[1;33m\u001b[0m\u001b[0m\n\u001b[0m\u001b[0;32m     97\u001b[0m \u001b[1;33m\u001b[0m\u001b[0m\n\u001b[0;32m     98\u001b[0m     \u001b[1;32mfor\u001b[0m \u001b[0mi\u001b[0m \u001b[1;32min\u001b[0m \u001b[0mtqdm\u001b[0m\u001b[1;33m(\u001b[0m\u001b[0mrange\u001b[0m\u001b[1;33m(\u001b[0m\u001b[0mn_mc\u001b[0m\u001b[1;33m)\u001b[0m\u001b[1;33m,\u001b[0m \u001b[0mdesc\u001b[0m \u001b[1;33m=\u001b[0m \u001b[1;34m\"Integral calc\"\u001b[0m\u001b[1;33m)\u001b[0m\u001b[1;33m:\u001b[0m\u001b[1;33m\u001b[0m\u001b[1;33m\u001b[0m\u001b[0m\n",
      "\u001b[1;32m~\\Anaconda3\\lib\\site-packages\\pymc3\\model.py\u001b[0m in \u001b[0;36m__call__\u001b[1;34m(self, *args, **kwargs)\u001b[0m\n\u001b[0;32m   1280\u001b[0m     \u001b[1;32mdef\u001b[0m \u001b[0m__call__\u001b[0m\u001b[1;33m(\u001b[0m\u001b[0mself\u001b[0m\u001b[1;33m,\u001b[0m \u001b[1;33m*\u001b[0m\u001b[0margs\u001b[0m\u001b[1;33m,\u001b[0m \u001b[1;33m**\u001b[0m\u001b[0mkwargs\u001b[0m\u001b[1;33m)\u001b[0m\u001b[1;33m:\u001b[0m\u001b[1;33m\u001b[0m\u001b[1;33m\u001b[0m\u001b[0m\n\u001b[0;32m   1281\u001b[0m         \u001b[0mpoint\u001b[0m \u001b[1;33m=\u001b[0m \u001b[0mPoint\u001b[0m\u001b[1;33m(\u001b[0m\u001b[0mmodel\u001b[0m\u001b[1;33m=\u001b[0m\u001b[0mself\u001b[0m\u001b[1;33m.\u001b[0m\u001b[0mmodel\u001b[0m\u001b[1;33m,\u001b[0m \u001b[1;33m*\u001b[0m\u001b[0margs\u001b[0m\u001b[1;33m,\u001b[0m \u001b[1;33m**\u001b[0m\u001b[0mkwargs\u001b[0m\u001b[1;33m)\u001b[0m\u001b[1;33m\u001b[0m\u001b[1;33m\u001b[0m\u001b[0m\n\u001b[1;32m-> 1282\u001b[1;33m         \u001b[1;32mreturn\u001b[0m \u001b[0mself\u001b[0m\u001b[1;33m.\u001b[0m\u001b[0mf\u001b[0m\u001b[1;33m(\u001b[0m\u001b[1;33m**\u001b[0m\u001b[0mpoint\u001b[0m\u001b[1;33m)\u001b[0m\u001b[1;33m\u001b[0m\u001b[1;33m\u001b[0m\u001b[0m\n\u001b[0m\u001b[0;32m   1283\u001b[0m \u001b[1;33m\u001b[0m\u001b[0m\n\u001b[0;32m   1284\u001b[0m \u001b[0mcompilef\u001b[0m \u001b[1;33m=\u001b[0m \u001b[0mfastfn\u001b[0m\u001b[1;33m\u001b[0m\u001b[1;33m\u001b[0m\u001b[0m\n",
      "\u001b[1;32m~\\Anaconda3\\lib\\site-packages\\theano\\compile\\function_module.py\u001b[0m in \u001b[0;36m__call__\u001b[1;34m(self, *args, **kwargs)\u001b[0m\n\u001b[0;32m    901\u001b[0m         \u001b[1;32mtry\u001b[0m\u001b[1;33m:\u001b[0m\u001b[1;33m\u001b[0m\u001b[1;33m\u001b[0m\u001b[0m\n\u001b[0;32m    902\u001b[0m             \u001b[0moutputs\u001b[0m \u001b[1;33m=\u001b[0m\u001b[0;31m\\\u001b[0m\u001b[1;33m\u001b[0m\u001b[1;33m\u001b[0m\u001b[0m\n\u001b[1;32m--> 903\u001b[1;33m                 \u001b[0mself\u001b[0m\u001b[1;33m.\u001b[0m\u001b[0mfn\u001b[0m\u001b[1;33m(\u001b[0m\u001b[1;33m)\u001b[0m \u001b[1;32mif\u001b[0m \u001b[0moutput_subset\u001b[0m \u001b[1;32mis\u001b[0m \u001b[1;32mNone\u001b[0m \u001b[1;32melse\u001b[0m\u001b[0;31m\\\u001b[0m\u001b[1;33m\u001b[0m\u001b[1;33m\u001b[0m\u001b[0m\n\u001b[0m\u001b[0;32m    904\u001b[0m                 \u001b[0mself\u001b[0m\u001b[1;33m.\u001b[0m\u001b[0mfn\u001b[0m\u001b[1;33m(\u001b[0m\u001b[0moutput_subset\u001b[0m\u001b[1;33m=\u001b[0m\u001b[0moutput_subset\u001b[0m\u001b[1;33m)\u001b[0m\u001b[1;33m\u001b[0m\u001b[1;33m\u001b[0m\u001b[0m\n\u001b[0;32m    905\u001b[0m         \u001b[1;32mexcept\u001b[0m \u001b[0mException\u001b[0m\u001b[1;33m:\u001b[0m\u001b[1;33m\u001b[0m\u001b[1;33m\u001b[0m\u001b[0m\n",
      "\u001b[1;32m~\\Anaconda3\\lib\\site-packages\\theano\\gof\\op.py\u001b[0m in \u001b[0;36mrval\u001b[1;34m(p, i, o, n)\u001b[0m\n\u001b[0;32m    890\u001b[0m             \u001b[1;31m# default arguments are stored in the closure of `rval`\u001b[0m\u001b[1;33m\u001b[0m\u001b[1;33m\u001b[0m\u001b[1;33m\u001b[0m\u001b[0m\n\u001b[0;32m    891\u001b[0m             \u001b[1;32mdef\u001b[0m \u001b[0mrval\u001b[0m\u001b[1;33m(\u001b[0m\u001b[0mp\u001b[0m\u001b[1;33m=\u001b[0m\u001b[0mp\u001b[0m\u001b[1;33m,\u001b[0m \u001b[0mi\u001b[0m\u001b[1;33m=\u001b[0m\u001b[0mnode_input_storage\u001b[0m\u001b[1;33m,\u001b[0m \u001b[0mo\u001b[0m\u001b[1;33m=\u001b[0m\u001b[0mnode_output_storage\u001b[0m\u001b[1;33m,\u001b[0m \u001b[0mn\u001b[0m\u001b[1;33m=\u001b[0m\u001b[0mnode\u001b[0m\u001b[1;33m)\u001b[0m\u001b[1;33m:\u001b[0m\u001b[1;33m\u001b[0m\u001b[1;33m\u001b[0m\u001b[0m\n\u001b[1;32m--> 892\u001b[1;33m                 \u001b[0mr\u001b[0m \u001b[1;33m=\u001b[0m \u001b[0mp\u001b[0m\u001b[1;33m(\u001b[0m\u001b[0mn\u001b[0m\u001b[1;33m,\u001b[0m \u001b[1;33m[\u001b[0m\u001b[0mx\u001b[0m\u001b[1;33m[\u001b[0m\u001b[1;36m0\u001b[0m\u001b[1;33m]\u001b[0m \u001b[1;32mfor\u001b[0m \u001b[0mx\u001b[0m \u001b[1;32min\u001b[0m \u001b[0mi\u001b[0m\u001b[1;33m]\u001b[0m\u001b[1;33m,\u001b[0m \u001b[0mo\u001b[0m\u001b[1;33m)\u001b[0m\u001b[1;33m\u001b[0m\u001b[1;33m\u001b[0m\u001b[0m\n\u001b[0m\u001b[0;32m    893\u001b[0m                 \u001b[1;32mfor\u001b[0m \u001b[0mo\u001b[0m \u001b[1;32min\u001b[0m \u001b[0mnode\u001b[0m\u001b[1;33m.\u001b[0m\u001b[0moutputs\u001b[0m\u001b[1;33m:\u001b[0m\u001b[1;33m\u001b[0m\u001b[1;33m\u001b[0m\u001b[0m\n\u001b[0;32m    894\u001b[0m                     \u001b[0mcompute_map\u001b[0m\u001b[1;33m[\u001b[0m\u001b[0mo\u001b[0m\u001b[1;33m]\u001b[0m\u001b[1;33m[\u001b[0m\u001b[1;36m0\u001b[0m\u001b[1;33m]\u001b[0m \u001b[1;33m=\u001b[0m \u001b[1;32mTrue\u001b[0m\u001b[1;33m\u001b[0m\u001b[1;33m\u001b[0m\u001b[0m\n",
      "\u001b[1;32m~\\Anaconda3\\lib\\site-packages\\theano\\tensor\\slinalg.py\u001b[0m in \u001b[0;36mperform\u001b[1;34m(self, node, inputs, outputs)\u001b[0m\n\u001b[0;32m     74\u001b[0m         \u001b[0mz\u001b[0m \u001b[1;33m=\u001b[0m \u001b[0moutputs\u001b[0m\u001b[1;33m[\u001b[0m\u001b[1;36m0\u001b[0m\u001b[1;33m]\u001b[0m\u001b[1;33m\u001b[0m\u001b[1;33m\u001b[0m\u001b[0m\n\u001b[0;32m     75\u001b[0m         \u001b[1;32mtry\u001b[0m\u001b[1;33m:\u001b[0m\u001b[1;33m\u001b[0m\u001b[1;33m\u001b[0m\u001b[0m\n\u001b[1;32m---> 76\u001b[1;33m             \u001b[0mz\u001b[0m\u001b[1;33m[\u001b[0m\u001b[1;36m0\u001b[0m\u001b[1;33m]\u001b[0m \u001b[1;33m=\u001b[0m \u001b[0mscipy\u001b[0m\u001b[1;33m.\u001b[0m\u001b[0mlinalg\u001b[0m\u001b[1;33m.\u001b[0m\u001b[0mcholesky\u001b[0m\u001b[1;33m(\u001b[0m\u001b[0mx\u001b[0m\u001b[1;33m,\u001b[0m \u001b[0mlower\u001b[0m\u001b[1;33m=\u001b[0m\u001b[0mself\u001b[0m\u001b[1;33m.\u001b[0m\u001b[0mlower\u001b[0m\u001b[1;33m)\u001b[0m\u001b[1;33m.\u001b[0m\u001b[0mastype\u001b[0m\u001b[1;33m(\u001b[0m\u001b[0mx\u001b[0m\u001b[1;33m.\u001b[0m\u001b[0mdtype\u001b[0m\u001b[1;33m)\u001b[0m\u001b[1;33m\u001b[0m\u001b[1;33m\u001b[0m\u001b[0m\n\u001b[0m\u001b[0;32m     77\u001b[0m         \u001b[1;32mexcept\u001b[0m \u001b[0mscipy\u001b[0m\u001b[1;33m.\u001b[0m\u001b[0mlinalg\u001b[0m\u001b[1;33m.\u001b[0m\u001b[0mLinAlgError\u001b[0m\u001b[1;33m:\u001b[0m\u001b[1;33m\u001b[0m\u001b[1;33m\u001b[0m\u001b[0m\n\u001b[0;32m     78\u001b[0m             \u001b[1;32mif\u001b[0m \u001b[0mself\u001b[0m\u001b[1;33m.\u001b[0m\u001b[0mon_error\u001b[0m \u001b[1;33m==\u001b[0m \u001b[1;34m'raise'\u001b[0m\u001b[1;33m:\u001b[0m\u001b[1;33m\u001b[0m\u001b[1;33m\u001b[0m\u001b[0m\n",
      "\u001b[1;32m~\\Anaconda3\\lib\\site-packages\\scipy\\linalg\\decomp_cholesky.py\u001b[0m in \u001b[0;36mcholesky\u001b[1;34m(a, lower, overwrite_a, check_finite)\u001b[0m\n\u001b[0;32m     87\u001b[0m     \"\"\"\n\u001b[0;32m     88\u001b[0m     c, lower = _cholesky(a, lower=lower, overwrite_a=overwrite_a, clean=True,\n\u001b[1;32m---> 89\u001b[1;33m                          check_finite=check_finite)\n\u001b[0m\u001b[0;32m     90\u001b[0m     \u001b[1;32mreturn\u001b[0m \u001b[0mc\u001b[0m\u001b[1;33m\u001b[0m\u001b[1;33m\u001b[0m\u001b[0m\n\u001b[0;32m     91\u001b[0m \u001b[1;33m\u001b[0m\u001b[0m\n",
      "\u001b[1;32m~\\Anaconda3\\lib\\site-packages\\scipy\\linalg\\decomp_cholesky.py\u001b[0m in \u001b[0;36m_cholesky\u001b[1;34m(a, lower, overwrite_a, clean, check_finite)\u001b[0m\n\u001b[0;32m     15\u001b[0m     \u001b[1;34m\"\"\"Common code for cholesky() and cho_factor().\"\"\"\u001b[0m\u001b[1;33m\u001b[0m\u001b[1;33m\u001b[0m\u001b[0m\n\u001b[0;32m     16\u001b[0m \u001b[1;33m\u001b[0m\u001b[0m\n\u001b[1;32m---> 17\u001b[1;33m     \u001b[0ma1\u001b[0m \u001b[1;33m=\u001b[0m \u001b[0masarray_chkfinite\u001b[0m\u001b[1;33m(\u001b[0m\u001b[0ma\u001b[0m\u001b[1;33m)\u001b[0m \u001b[1;32mif\u001b[0m \u001b[0mcheck_finite\u001b[0m \u001b[1;32melse\u001b[0m \u001b[0masarray\u001b[0m\u001b[1;33m(\u001b[0m\u001b[0ma\u001b[0m\u001b[1;33m)\u001b[0m\u001b[1;33m\u001b[0m\u001b[1;33m\u001b[0m\u001b[0m\n\u001b[0m\u001b[0;32m     18\u001b[0m     \u001b[0ma1\u001b[0m \u001b[1;33m=\u001b[0m \u001b[0matleast_2d\u001b[0m\u001b[1;33m(\u001b[0m\u001b[0ma1\u001b[0m\u001b[1;33m)\u001b[0m\u001b[1;33m\u001b[0m\u001b[1;33m\u001b[0m\u001b[0m\n\u001b[0;32m     19\u001b[0m \u001b[1;33m\u001b[0m\u001b[0m\n",
      "\u001b[1;32m~\\Anaconda3\\lib\\site-packages\\numpy\\lib\\function_base.py\u001b[0m in \u001b[0;36masarray_chkfinite\u001b[1;34m(a, dtype, order)\u001b[0m\n\u001b[0;32m    485\u001b[0m     \"\"\"\n\u001b[0;32m    486\u001b[0m     \u001b[0ma\u001b[0m \u001b[1;33m=\u001b[0m \u001b[0masarray\u001b[0m\u001b[1;33m(\u001b[0m\u001b[0ma\u001b[0m\u001b[1;33m,\u001b[0m \u001b[0mdtype\u001b[0m\u001b[1;33m=\u001b[0m\u001b[0mdtype\u001b[0m\u001b[1;33m,\u001b[0m \u001b[0morder\u001b[0m\u001b[1;33m=\u001b[0m\u001b[0morder\u001b[0m\u001b[1;33m)\u001b[0m\u001b[1;33m\u001b[0m\u001b[1;33m\u001b[0m\u001b[0m\n\u001b[1;32m--> 487\u001b[1;33m     \u001b[1;32mif\u001b[0m \u001b[0ma\u001b[0m\u001b[1;33m.\u001b[0m\u001b[0mdtype\u001b[0m\u001b[1;33m.\u001b[0m\u001b[0mchar\u001b[0m \u001b[1;32min\u001b[0m \u001b[0mtypecodes\u001b[0m\u001b[1;33m[\u001b[0m\u001b[1;34m'AllFloat'\u001b[0m\u001b[1;33m]\u001b[0m \u001b[1;32mand\u001b[0m \u001b[1;32mnot\u001b[0m \u001b[0mnp\u001b[0m\u001b[1;33m.\u001b[0m\u001b[0misfinite\u001b[0m\u001b[1;33m(\u001b[0m\u001b[0ma\u001b[0m\u001b[1;33m)\u001b[0m\u001b[1;33m.\u001b[0m\u001b[0mall\u001b[0m\u001b[1;33m(\u001b[0m\u001b[1;33m)\u001b[0m\u001b[1;33m:\u001b[0m\u001b[1;33m\u001b[0m\u001b[1;33m\u001b[0m\u001b[0m\n\u001b[0m\u001b[0;32m    488\u001b[0m         raise ValueError(\n\u001b[0;32m    489\u001b[0m             \"array must not contain infs or NaNs\")\n",
      "\u001b[1;31mKeyboardInterrupt\u001b[0m: "
     ]
    }
   ],
   "source": [
    "time_array_evidence = np.zeros(2)\n",
    "startTime = time.time()\n",
    "mc_integral, log_likelihood = evidence_integral(data_input, priors_dictionary, n_mc = 200000)\n",
    "endTime = time.time()\n",
    "print(endTime - startTime)\n",
    "time_array_evidence[1] = endTime - startTime\n",
    "out_dictionary = {}\n",
    "out_dictionary[\"MCMC_time\"] = time_array_sampler \n",
    "out_dictionary[\"Evidence_time\"] = time_array_sampler \n",
    "out_dictionary[\"integral\"] = mc_integral\n",
    "out_dictionary[\"likelihood\"] = log_likelihood\n",
    "\n",
    "folder = \"Masses_MCMC_\" + model_name\n",
    "\n",
    "if not os.path.exists(folder):\n",
    "    os.makedirs(folder)\n",
    "\n",
    "with open(folder + \"\\outputs\" + '.pickle', 'wb') as handle:\n",
    "    pkl.dump(out_dictionary, handle, protocol=pkl.HIGHEST_PROTOCOL)"
   ]
  },
  {
   "cell_type": "code",
   "execution_count": 42,
   "id": "518aaf74",
   "metadata": {},
   "outputs": [
    {
     "data": {
      "text/plain": [
       "[<matplotlib.lines.Line2D at 0x19904eff808>]"
      ]
     },
     "execution_count": 42,
     "metadata": {},
     "output_type": "execute_result"
    },
    {
     "data": {
      "image/png": "[encoded data removed]",
      "text/plain": [
       "<Figure size 432x288 with 1 Axes>"
      ]
     },
     "metadata": {
      "needs_background": "light"
     },
     "output_type": "display_data"
    }
   ],
   "source": [
    "plt.plot(log_likelihood)"
   ]
  },
  {
   "cell_type": "code",
   "execution_count": 181,
   "id": "32b48722",
   "metadata": {},
   "outputs": [],
   "source": [
    "with open(\"HPCC_MCMC\\Masses_MCMC_UNEDF1\\outputs\" + '.pickle', 'rb') as handle:\n",
    "    test_outputs = pkl.load(handle)"
   ]
  },
  {
   "cell_type": "code",
   "execution_count": 171,
   "id": "53261e7a",
   "metadata": {},
   "outputs": [
    {
     "data": {
      "text/plain": [
       "[<matplotlib.lines.Line2D at 0x1e923c5b6c8>]"
      ]
     },
     "execution_count": 171,
     "metadata": {},
     "output_type": "execute_result"
    },
    {
     "data": {
      "image/png": "[encoded data removed]",
      "text/plain": [
       "<Figure size 432x288 with 1 Axes>"
      ]
     },
     "metadata": {
      "needs_background": "light"
     },
     "output_type": "display_data"
    }
   ],
   "source": [
    "plt.plot(test_outputs[\"likelihood\"])"
   ]
  },
  {
   "cell_type": "code",
   "execution_count": 172,
   "id": "eaec510e",
   "metadata": {},
   "outputs": [
    {
     "data": {
      "text/plain": [
       "-2007.707375958155"
      ]
     },
     "execution_count": 172,
     "metadata": {},
     "output_type": "execute_result"
    }
   ],
   "source": [
    "np.average(test_outputs[\"likelihood\"])"
   ]
  },
  {
   "cell_type": "code",
   "execution_count": 174,
   "id": "89ba7431",
   "metadata": {},
   "outputs": [
    {
     "data": {
      "text/plain": [
       "-1983.0635656534243"
      ]
     },
     "execution_count": 174,
     "metadata": {},
     "output_type": "execute_result"
    }
   ],
   "source": [
    "np.average(test_outputs[\"likelihood\"])"
   ]
  },
  {
   "cell_type": "code",
   "execution_count": 176,
   "id": "e689a2da",
   "metadata": {},
   "outputs": [
    {
     "data": {
      "text/plain": [
       "-2003.4464771300873"
      ]
     },
     "execution_count": 176,
     "metadata": {},
     "output_type": "execute_result"
    }
   ],
   "source": [
    "np.average(test_outputs[\"likelihood\"])"
   ]
  },
  {
   "cell_type": "code",
   "execution_count": 178,
   "id": "171153cc",
   "metadata": {},
   "outputs": [
    {
     "data": {
      "text/plain": [
       "-1973.5516110632793"
      ]
     },
     "execution_count": 178,
     "metadata": {},
     "output_type": "execute_result"
    }
   ],
   "source": [
    "np.average(test_outputs[\"likelihood\"])"
   ]
  },
  {
   "cell_type": "code",
   "execution_count": 180,
   "id": "b9edb64b",
   "metadata": {},
   "outputs": [
    {
     "data": {
      "text/plain": [
       "-1958.4833722873354"
      ]
     },
     "execution_count": 180,
     "metadata": {},
     "output_type": "execute_result"
    }
   ],
   "source": [
    "np.average(test_outputs[\"likelihood\"])"
   ]
  },
  {
   "cell_type": "code",
   "execution_count": 182,
   "id": "3e0bc4d9",
   "metadata": {},
   "outputs": [
    {
     "data": {
      "text/plain": [
       "-1951.627135765497"
      ]
     },
     "execution_count": 182,
     "metadata": {},
     "output_type": "execute_result"
    }
   ],
   "source": [
    "np.average(test_outputs[\"likelihood\"])"
   ]
  },
  {
   "cell_type": "markdown",
   "id": "b0fc0034",
   "metadata": {},
   "source": [
    "# Predictions"
   ]
  },
  {
   "cell_type": "code",
   "execution_count": 193,
   "id": "4270a3fe",
   "metadata": {},
   "outputs": [],
   "source": [
    "# Loading posterior distributions\n",
    "with open(\"Masses_RMS_UNEDF1\\posterior_samples\"  + '.pickle', 'rb') as handle:\n",
    "    posteriors_VI = pkl.load(handle)\n",
    "\n",
    "with full_bayes:\n",
    "    trace_MCMC = pm.backends.ndarray.load_trace(\"trace_UNEDF1_nsample_10000_sampler_NUTS\")\n",
    "posteriors_MCMC = {}\n",
    "posteriors_MCMC['beta'] = trace_MCMC['mean_delta']\n",
    "posteriors_MCMC['eta'] = trace_MCMC['kernel_delta_eta']\n",
    "posteriors_MCMC['sigma2'] = trace_MCMC['sigma2']\n",
    "posteriors_MCMC['sigma'] = np.sqrt(trace_MCMC['sigma2'])\n",
    "posteriors_MCMC['ls'] = trace_MCMC['kernel_delta_l']\n",
    "\n",
    "model_name = \"UNEDF1\"\n",
    "#model_name = sys.argv[1]\n",
    "torch.manual_seed(2)\n",
    "residuals_test = S2n_test[\"S2n_16\"] - S2n_test[model_name]\n",
    "data_input_test = {\"Response\": residuals_test.to_numpy(float).flatten(), \"X\": S2n_test[[\"Z\", \"N\"]].to_numpy(float)}\n",
    "\n",
    "residuals_train = S2n_train[\"S2n_16\"] - S2n_train[model_name]\n",
    "data_input_train = {\"Response\": residuals_train.to_numpy(float).flatten(), \"X\": S2n_train[[\"Z\", \"N\"]].to_numpy(float)}"
   ]
  },
  {
   "cell_type": "code",
   "execution_count": 194,
   "id": "f589b879",
   "metadata": {},
   "outputs": [
    {
     "data": {
      "application/vnd.jupyter.widget-view+json": {
       "model_id": "20b23b4a8d664bce8c50d121a04a0f37",
       "version_major": 2,
       "version_minor": 0
      },
      "text/plain": [
       "MCMC:   0%|          | 0/10000 [00:00<?, ?it/s]"
      ]
     },
     "metadata": {},
     "output_type": "display_data"
    },
    {
     "data": {
      "application/vnd.jupyter.widget-view+json": {
       "model_id": "33477dc821a8492da2d12bff7e3d9425",
       "version_major": 2,
       "version_minor": 0
      },
      "text/plain": [
       "VBMA:   0%|          | 0/10000 [00:00<?, ?it/s]"
      ]
     },
     "metadata": {},
     "output_type": "display_data"
    }
   ],
   "source": [
    "# predictions\n",
    "torch.manual_seed(2)\n",
    "n_sample = 10000 # number of posterior samples\n",
    "n_test = data_input_test[\"Response\"].shape[0]\n",
    "n_train = data_input_train[\"Response\"].shape[0]\n",
    "\n",
    "post_samples = {}\n",
    "post_samples['MCMC'] = np.zeros((data_input_test[\"Response\"].shape[0], n_sample))\n",
    "post_samples['VBMA'] = np.zeros((data_input_test[\"Response\"].shape[0], n_sample))\n",
    "X = np.concatenate([data_input_test['X'], data_input_train['X']])\n",
    "\n",
    "for i in tqdm(range(n_sample), desc= 'MCMC'):\n",
    "    eta = float(posteriors_MCMC['eta'][-(i + 1)])\n",
    "    ls = posteriors_MCMC['ls'][-(i + 1)]\n",
    "    sigma2 = float(posteriors_MCMC['sigma2'][-(i + 1)])\n",
    "    beta = float(posteriors_MCMC['beta'][-(i + 1)])\n",
    "    kernel_base = eta ** 2 * skl.RBF(length_scale = ls)\n",
    "    K = kernel_base(X)\n",
    "    K11 = K[:n_test,:n_test] + np.diag([sigma2] * n_test)\n",
    "    K22 = K[n_test:,n_test:] + np.diag([sigma2] * n_train)\n",
    "    K12 = K[:n_test,n_test:]\n",
    "    \n",
    "    mean_pred = np.repeat(beta,n_test)[:,None]\n",
    "    mean_old = np.repeat(beta,n_train)[:,None]\n",
    "    \n",
    "    m_pred = mean_pred + np.dot(K12, np.linalg.solve(K22, data_input_train[\"Response\"][:,None] - mean_old))\n",
    "    K_pred = K11 - np.dot(K12, np.linalg.solve(K22, K12.T))\n",
    "    post_samples['MCMC'][:,i] = np.random.multivariate_normal(mean = m_pred.flatten(), cov = K_pred)\n",
    "    \n",
    "for i in tqdm(range(n_sample), desc= 'VBMA'):\n",
    "    eta = float(posteriors_VI['eta'][-(i + 1)])\n",
    "    ls = posteriors_VI['ls'][-(i + 1)]\n",
    "    sigma2 = float(posteriors_VI['sigma2'][-(i + 1)])\n",
    "    beta = float(posteriors_VI['beta'][-(i + 1)])\n",
    "    kernel_base = eta ** 2 * skl.RBF(length_scale = ls)\n",
    "    K = kernel_base(X)\n",
    "    K11 = K[:n_test,:n_test] + np.diag([sigma2] * n_test)\n",
    "    K22 = K[n_test:,n_test:] + np.diag([sigma2] * n_train)\n",
    "    K12 = K[:n_test,n_test:]\n",
    "    \n",
    "    mean_pred = np.repeat(beta,n_test)[:,None]\n",
    "    mean_old = np.repeat(beta,n_train)[:,None]\n",
    "    \n",
    "    m_pred = mean_pred + np.dot(K12, np.linalg.solve(K22, data_input_train[\"Response\"][:,None] - mean_old))\n",
    "    K_pred = K11 - np.dot(K12, np.linalg.solve(K22, K12.T))\n",
    "    post_samples['VBMA'][:,i] = np.random.multivariate_normal(mean = m_pred.flatten(), cov = K_pred)\n",
    "    \n",
    "    "
   ]
  },
  {
   "cell_type": "code",
   "execution_count": 195,
   "id": "91fbc31a",
   "metadata": {},
   "outputs": [
    {
     "name": "stdout",
     "output_type": "stream",
     "text": [
      "RMSE MCMC:\n",
      "0.41855947400906235\n",
      "RMSE VBMA:\n",
      "0.4122917088570487\n"
     ]
    }
   ],
   "source": [
    "print(\"RMSE MCMC:\")\n",
    "print(np.sqrt(np.mean((data_input_test[\"Response\"] - np.mean(post_samples['MCMC'], axis = 1)) ** 2)))\n",
    "print(\"RMSE VBMA:\")\n",
    "print(np.sqrt(np.mean((data_input_test[\"Response\"] - np.mean(post_samples['VBMA'], axis = 1)) ** 2)))"
   ]
  },
  {
   "cell_type": "code",
   "execution_count": 196,
   "id": "86b2f510",
   "metadata": {},
   "outputs": [
    {
     "name": "stdout",
     "output_type": "stream",
     "text": [
      "Alpha------------------    0.9\n",
      "MCMC predictive coverage: 0.9583333333333334\n",
      "VBMA predictive coverage: 0.9333333333333333\n",
      "Alpha------------------    0.8\n",
      "MCMC predictive coverage: 0.9416666666666667\n",
      "VBMA predictive coverage: 0.875\n",
      "Alpha------------------    0.7\n",
      "MCMC predictive coverage: 0.9166666666666666\n",
      "VBMA predictive coverage: 0.7916666666666666\n",
      "Alpha------------------    0.6\n",
      "MCMC predictive coverage: 0.8083333333333333\n",
      "VBMA predictive coverage: 0.7333333333333333\n",
      "Alpha------------------    0.5\n",
      "MCMC predictive coverage: 0.75\n",
      "VBMA predictive coverage: 0.675\n",
      "Alpha------------------    0.4\n",
      "MCMC predictive coverage: 0.6833333333333333\n",
      "VBMA predictive coverage: 0.5666666666666667\n",
      "Alpha------------------    0.30000000000000004\n",
      "MCMC predictive coverage: 0.5583333333333333\n",
      "VBMA predictive coverage: 0.5083333333333333\n",
      "Alpha------------------    0.19999999999999996\n",
      "MCMC predictive coverage: 0.44166666666666665\n",
      "VBMA predictive coverage: 0.38333333333333336\n",
      "Alpha------------------    0.09999999999999998\n",
      "MCMC predictive coverage: 0.25\n",
      "VBMA predictive coverage: 0.21666666666666667\n"
     ]
    }
   ],
   "source": [
    "alphas = [0.1, 0.2, 0.3, 0.4, 0.5, 0.6, 0.7, 0.8, 0.9]\n",
    "MCMC_cov = []\n",
    "VBMA_cov = []\n",
    "for alpha in alphas:\n",
    "    print(\"Alpha------------------    \" + str(1 - alpha))\n",
    "\n",
    "    credible_int = {}\n",
    "    credible_int[\"MCMC\"] = np.zeros((n_test, 2))\n",
    "    credible_int[\"VBMA\"] = np.zeros((n_test, 2))\n",
    "\n",
    "    credible_int[\"MCMC\"][:,0] = np.quantile(post_samples[\"MCMC\"], alpha / 2, axis =1)\n",
    "    credible_int[\"MCMC\"][:,1] = np.quantile(post_samples[\"MCMC\"],1 - alpha / 2, axis =1)\n",
    "    credible_int[\"VBMA\"][:,0] = np.quantile(post_samples[\"VBMA\"], alpha / 2, axis =1)\n",
    "    credible_int[\"VBMA\"][:,1] = np.quantile(post_samples[\"VBMA\"],1 - alpha / 2, axis =1)\n",
    "\n",
    "\n",
    "    # Predictive coverage:\n",
    "    MCMC_cov = MCMC_cov + [np.sum((data_input_test[\"Response\"] >= credible_int[\"MCMC\"][:,0]) & (data_input_test[\"Response\"] <= credible_int[\"MCMC\"][:,1])) / n_test] \n",
    "    print(\"MCMC predictive coverage: \" + str(np.sum((data_input_test[\"Response\"] >= credible_int[\"MCMC\"][:,0]) & (data_input_test[\"Response\"] <= credible_int[\"MCMC\"][:,1])) / n_test))\n",
    "    \n",
    "    VBMA_cov = VBMA_cov + [np.sum((data_input_test[\"Response\"] >= credible_int[\"VBMA\"][:,0]) & (data_input_test[\"Response\"] <= credible_int[\"VBMA\"][:,1])) / n_test] \n",
    "    print(\"VBMA predictive coverage: \" + str(np.sum((data_input_test[\"Response\"] >= credible_int[\"VBMA\"][:,0]) & (data_input_test[\"Response\"] <= credible_int[\"VBMA\"][:,1])) / n_test))"
   ]
  },
  {
   "cell_type": "code",
   "execution_count": 197,
   "id": "073cb794",
   "metadata": {},
   "outputs": [
    {
     "data": {
      "image/png": "[encoded data removed]",
      "text/plain": [
       "<Figure size 432x432 with 1 Axes>"
      ]
     },
     "metadata": {
      "needs_background": "light"
     },
     "output_type": "display_data"
    }
   ],
   "source": [
    "fig = plt.figure(figsize=(6, 6))\n",
    "plt.rcParams.update({'font.size': 17})\n",
    "gs = gridspec.GridSpec(1, 1, hspace = 0.001, wspace = 0.001)\n",
    "lw = 3\n",
    "ref = np.linspace(0, 1, num = 100)\n",
    "\n",
    "ax = plt.subplot(gs[0])\n",
    "ax.plot(1 - np.array(alphas), MCMC_cov, lw =lw, linestyle = '--', label = r\"MCMC\")\n",
    "ax.plot(1 - np.array(alphas), VBMA_cov, lw =lw, label = r\"VBMA\")\n",
    "ax.plot(ref, ref, lw =1, linestyle = 'dashdot', color = 'black')\n",
    "ax.set_aspect('equal', adjustable='box')\n",
    "ax.set_ylim([0,1])\n",
    "ax.set_xlim([0,1])\n",
    "ax.set_xlabel(r\"Credibility level\")\n",
    "ax.set_ylabel(\"Empirical coverage\")\n",
    "ax.legend(frameon=False, loc='upper left')\n",
    "plt.savefig(\"Mass_coverage_full_RMS.pdf\", dpi=500,bbox_inches='tight')\n",
    "plt.show()"
   ]
  }
 ],
 "metadata": {
  "kernelspec": {
   "display_name": "Python 3 (ipykernel)",
   "language": "python",
   "name": "python3"
  },
  "language_info": {
   "codemirror_mode": {
    "name": "ipython",
    "version": 3
   },
   "file_extension": ".py",
   "mimetype": "text/x-python",
   "name": "python",
   "nbconvert_exporter": "python",
   "pygments_lexer": "ipython3",
   "version": "3.9.13"
  },
  "latex_envs": {
   "LaTeX_envs_menu_present": true,
   "autoclose": false,
   "autocomplete": true,
   "bibliofile": "biblio.bib",
   "cite_by": "apalike",
   "current_citInitial": 1,
   "eqLabelWithNumbers": true,
   "eqNumInitial": 1,
   "hotkeys": {
    "equation": "Ctrl-E",
    "itemize": "Ctrl-I"
   },
   "labels_anchors": false,
   "latex_user_defs": false,
   "report_style_numbering": false,
   "user_envs_cfg": false
  }
 },
 "nbformat": 4,
 "nbformat_minor": 5
}
