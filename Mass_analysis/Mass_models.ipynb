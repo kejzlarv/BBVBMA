{
 "cells": [
  {
   "cell_type": "markdown",
   "id": "40895008",
   "metadata": {},
   "source": [
    "# Packages"
   ]
  },
  {
   "cell_type": "code",
   "execution_count": 63,
   "id": "9afc0cdd",
   "metadata": {},
   "outputs": [],
   "source": [
    "import pandas as pd\n",
    "import numpy as np\n",
    "import torch\n",
    "from torch import nn\n",
    "from torch.distributions import Normal\n",
    "import time\n",
    "import matplotlib.pyplot as plt\n",
    "import copy\n",
    "import os\n",
    "import seaborn as sns\n",
    "import pickle as pkl\n",
    "\n",
    "from matplotlib.colors import ListedColormap\n",
    "import matplotlib.patches as mpatches"
   ]
  },
  {
   "cell_type": "markdown",
   "id": "d59fd01a",
   "metadata": {},
   "source": [
    "# Utilities"
   ]
  },
  {
   "cell_type": "code",
   "execution_count": 64,
   "id": "ed668a8d",
   "metadata": {},
   "outputs": [],
   "source": [
    "class MCElbo(torch.nn.Module):\n",
    "    def __init__(self, nMC, x_dim, N):\n",
    "        \"\"\"Note, the fact that we need to include N and S now is not the most flexible, \n",
    "            however, it will save time since each iterration of the update will not have to compute these\"\"\"\n",
    "        super(MCElbo, self).__init__()\n",
    "        \n",
    "        self.nMC = nMC\n",
    "        self.x_dim = x_dim\n",
    "        self.param_dim = 1 + 1 + 1 + x_dim #sigma2, eta_d, beta_d\n",
    "        self.softplus = torch.nn.Softplus() # transformation of the variable\n",
    "        self.N = N\n",
    "        \n",
    "        self.up_exp_d_a, self.up_exp_d_b = np.triu_indices(N, 1)\n",
    "        \n",
    "        ### Parameters for the variational posterior\n",
    "        # Mean parameters for the GP's\n",
    "        \n",
    "        self.q_beta_d_m = torch.nn.Parameter(torch.randn(1,1))\n",
    "        self.q_beta_d_s = torch.nn.Parameter(torch.randn(1,1))\n",
    "        \n",
    "        # Thetas\n",
    "        \n",
    "        # Variance\n",
    "        self.q_sigma2_m = torch.nn.Parameter(torch.randn(1,1))\n",
    "        self.q_sigma2_s = torch.nn.Parameter(torch.randn(1,1))\n",
    "        \n",
    "        # Scales of the kernels\n",
    "        \n",
    "        self.q_eta_d_m = torch.nn.Parameter(torch.randn(1,1))\n",
    "        self.q_eta_d_s = torch.nn.Parameter(torch.randn(1,1))\n",
    "        \n",
    "        # Length scale for the kernels\n",
    "        \n",
    "        self.q_ls_d_m = torch.nn.Parameter(torch.randn(1,x_dim)) \n",
    "        self.q_ls_d_s = torch.nn.Parameter(torch.randn(1,x_dim)) \n",
    "        \n",
    "        ### Prior distributions\n",
    "        \n",
    "        self.prior_beta_d_m = torch.randn(1,1)\n",
    "        self.prior_beta_d_s = torch.randn(1,1)\n",
    "        \n",
    "        \n",
    "        self.prior_sigma2_m = torch.randn(1,1)\n",
    "        self.prior_sigma2_s = torch.randn(1,1)\n",
    "        \n",
    "        \n",
    "        self.prior_eta_d_m = torch.randn(1,1)\n",
    "        self.prior_eta_d_s = torch.randn(1,1)\n",
    "        \n",
    "        \n",
    "        self.prior_ls_d_m = torch.randn(1,x_dim) # To be changed for x_dim +  theta_dim\n",
    "        self.prior_ls_d_s = torch.randn(1,x_dim) # To be changed for x_dim +  theta_dim\n",
    "        \n",
    "        \n",
    "        # Set appropriate values for prior likelihoods\n",
    "\n",
    "        self.prior_beta_d_m.data.fill_(0)\n",
    "        self.prior_beta_d_s.data.fill_(1)\n",
    "        \n",
    "        self.prior_sigma2_m.data.fill_(1)\n",
    "        self.prior_sigma2_s.data.fill_(np.sqrt(np.log(2)))\n",
    "        \n",
    "        self.prior_eta_d_m.data.fill_(1)\n",
    "        self.prior_eta_d_s.data.fill_(np.sqrt(np.log(2)))\n",
    "        \n",
    "        self.prior_ls_d_m.data.fill_(1)\n",
    "        self.prior_ls_d_s.data.fill_(np.sqrt(np.log(2)))\n",
    "        \n",
    "        \n",
    "        ### Current parameter state holder holder\n",
    "        self.beta_d = torch.FloatTensor((1))\n",
    "        self.beta_d.data.fill_(1)\n",
    "        self.likelihood_s = torch.FloatTensor((1))\n",
    "        self.likelihood_s.data.fill_(1)\n",
    "        self.eta_d = torch.FloatTensor((1))\n",
    "        self.eta_d.data.fill_(1)\n",
    "        self.ls_d = torch.randn(1,x_dim)\n",
    "        self.ls_d.data.fill_(1)\n",
    "        \n",
    "    def log_LogNormal(self, param, m, s):\n",
    "        \"\"\"Computes log likelihood of log_normal density\n",
    "        Args:\n",
    "            param: 1 X K dimensional tensor\n",
    "            m: 1 X K dimensional mean tensor\n",
    "            s: 1 X K dimensional std tensor\n",
    "        \"\"\"\n",
    "        interm__ = ((torch.log(param) - m) / s).pow(2)\n",
    "        log_prob = - len(param) * np.log(2 * np.pi) / 2 - torch.log(param).sum() - torch.log(s).sum() - 0.5 * interm__.sum()\n",
    "        return log_prob.reshape(1,1)\n",
    "    \n",
    "    def log_Normal(self, param, m, s):\n",
    "        \"\"\"Computes log likelihood of log_normal density\n",
    "        Args:\n",
    "            param: 1 X K dimensional tensor\n",
    "            m: 1 X K dimensional mean tensor\n",
    "            s: 1 X K dimensional std tensor\n",
    "        \"\"\"\n",
    "        interm__ = ((param - m) / s).pow(2)\n",
    "        log_prob = - len(param) * np.log(2 * np.pi) / 2 - torch.log(s).sum() - 0.5 * interm__.sum()\n",
    "        return log_prob.reshape(1,1)\n",
    "        \n",
    "    def q_log(self):\n",
    "        # The normal distributions for thetas need to be updated\n",
    "        log_lkl = self.log_Normal(self.beta_d, self.q_beta_d_m, self.softplus(self.q_beta_d_s)) + \\\n",
    "        self.log_LogNormal(self.likelihood_s, self.q_sigma2_m, self.softplus(self.q_sigma2_s)) + \\\n",
    "        self.log_LogNormal(self.eta_d, self.q_eta_d_m, self.softplus(self.q_eta_d_s)) + \\\n",
    "        self.log_LogNormal(self.ls_d, self.q_ls_d_m, self.softplus(self.q_ls_d_s))\n",
    "        return log_lkl\n",
    "    \n",
    "    def pri_log(self):\n",
    "        # The normal distributions for thetas need to be updated\n",
    "        log_lkl = self.log_Normal(self.beta_d, self.prior_beta_d_m, self.prior_beta_d_s) + \\\n",
    "        self.log_LogNormal(self.likelihood_s, self.prior_sigma2_m, self.softplus(self.prior_sigma2_s)) + \\\n",
    "        self.log_LogNormal(self.eta_d, self.prior_eta_d_m, self.softplus(self.prior_eta_d_s)) + \\\n",
    "        self.log_LogNormal(self.ls_d, self.prior_ls_d_m, self.softplus(self.prior_ls_d_s))\n",
    "        return log_lkl\n",
    "    \n",
    "        \n",
    "    def generate_sample(self, n_var = 2):\n",
    "        return Normal(0,1).sample((self.nMC,n_var,1))\n",
    "    \n",
    "    def sample_reparam_normal(self, param, m, s):\n",
    "        return param.mul(self.softplus(s.T)).add(m.T)\n",
    "    \n",
    "    def sample_reparam_logNormal(self, param, m, s):\n",
    "        return torch.exp(param.mul(self.softplus(s.T)).add(m.T))\n",
    "    \n",
    "    def RBFkernel(self, x, length_scale, eta, a, b):\n",
    "        \"\"\"\n",
    "        Note, since length_scale will be a sample, I will need to pass length_scale.T\n",
    "        Args:\n",
    "            x: Input tensor of dimensions N x D\n",
    "            lenght_scale: Tenosr of lengthscales with dimension 1 X D, if 1 X 1 then common ls\n",
    "            a, b: Tuple output from numpy.triu_indices(N) - this is for time saving purposes\n",
    "            eta: Tensor 1 X 1 containing the kernel scale\n",
    "        \"\"\"\n",
    "        # Prep for the kernel computation\n",
    "        M = len(x)\n",
    "        W__ = torch.ones((M, M))\n",
    "\n",
    "        condensed_dist_mat = torch.exp( -0.5 * (torch.nn.functional.pdist(x / length_scale, p = 2).pow(2)))\n",
    "        W__[a,b] = condensed_dist_mat\n",
    "        W__[b,a] = condensed_dist_mat\n",
    "        return W__.mul(eta)\n",
    "        \n",
    "    def forward(self,x):\n",
    "        \"\"\"Returns dat likelihood for one MC sample\"\"\"\n",
    "        d_cov_mat = self.RBFkernel(x, self.ls_d, self.eta_d, self.up_exp_d_a, self.up_exp_d_b)\n",
    "        # Noise kernel\n",
    "        noise_cov_mat = torch.diag(torch.ones(self.N)) * self.likelihood_s\n",
    "        cov_mat = d_cov_mat + noise_cov_mat\n",
    "        \n",
    "        # Likelihood means\n",
    "        mean_vec = torch.ones((self.N, 1), dtype = torch.float) * self.beta_d\n",
    "        \n",
    "        return torch.distributions.multivariate_normal.MultivariateNormal(mean_vec.flatten(), cov_mat)\n",
    "    \n",
    "    def compute_elbo_loop(self, x, y):     \n",
    "        \n",
    "        z = self.generate_sample(n_var = self.param_dim)\n",
    "        sigma2 = self.sample_reparam_logNormal(z[:, 0], self.q_sigma2_m, self.q_sigma2_s)\n",
    "        beta_d = self.sample_reparam_normal(z[:, 1], self.q_beta_d_m, self.q_beta_d_s)\n",
    "        eta_d = self.sample_reparam_logNormal(z[:, 2], self.q_eta_d_m, self.q_eta_d_s)\n",
    "        ls_d = self.sample_reparam_logNormal(z[:, 3:(3 + self.x_dim)], self.q_ls_d_m, self.q_ls_d_s)\n",
    "\n",
    "        loss = torch.randn(1,1)\n",
    "        loss.data.fill_(0.0)\n",
    "        \n",
    "        for i in range(self.nMC):\n",
    "            self.likelihood_s = sigma2[i]\n",
    "            self.eta_d = eta_d[i]\n",
    "            self.beta_d = beta_d[i]\n",
    "            self.ls_d = ls_d[i].T\n",
    "            \n",
    "            q_likelihood = self.q_log()\n",
    "            prior_likelihood = self.pri_log()\n",
    "            data_likelihood = self.forward(x).log_prob(y)\n",
    "        \n",
    "            loss += data_likelihood + prior_likelihood - q_likelihood\n",
    "        return loss / self.nMC\n",
    "    \n",
    "    def ModelString(self):\n",
    "        return f\"beta mean: {self.q_beta_d_m} , sigma^2 mean: {torch.exp(self.q_sigma2_m + 0.5 * self.softplus(self.q_sigma2_s) ** 2).item()}\""
   ]
  },
  {
   "cell_type": "markdown",
   "id": "8bfd7b0b",
   "metadata": {},
   "source": [
    "# AME preprocessing"
   ]
  },
  {
   "cell_type": "code",
   "execution_count": 92,
   "id": "2b63fea9",
   "metadata": {},
   "outputs": [],
   "source": [
    "# AME2003\n",
    "masses03 = pd.read_fwf('mass.mas03', usecols=(2,3,4,11),\n",
    "              names=('N', 'Z', 'A', 'avEbind'),\n",
    "              widths=(1,3,5,5,5,1,3,4,1,13,11,11,9,1,2,11,9,1,3,1,12,11,1),\n",
    "              header=39,\n",
    "              index_col=False)\n",
    "masses03['avEbind'] = pd.to_numeric(masses03['avEbind'], errors='coerce')\n",
    "masses03 = masses03.dropna()\n",
    "masses03 = masses03.drop(0)\n",
    "masses03['BE_per_A'] = masses03['avEbind'] / 1000\n",
    "masses03['AME2003'] = masses03['BE_per_A'] * masses03['A']\n",
    "masses03[\"S2n_03\"] = np.nan\n",
    "masses03 = masses03.drop(columns = ['avEbind', 'BE_per_A'])"
   ]
  },
  {
   "cell_type": "code",
   "execution_count": 93,
   "id": "ab3e5768",
   "metadata": {},
   "outputs": [],
   "source": [
    "for index, row in masses03.iterrows():\n",
    "    if np.any((masses03[\"N\"] == (row[\"N\"] - 2)) & (masses03[\"Z\"] == row[\"Z\"])):\n",
    "        masses03.loc[(masses03[\"N\"] == (row[\"N\"])) & (masses03[\"Z\"] == row[\"Z\"]), \"S2n_03\"] = masses03[(masses03[\"N\"] == (row[\"N\"])) & (masses03[\"Z\"] == row[\"Z\"])][\"AME2003\"].squeeze()  -  masses03[(masses03[\"N\"] == (row[\"N\"] - 2)) & (masses03[\"Z\"] == row[\"Z\"])][\"AME2003\"].squeeze()  \n",
    "masses03 = masses03.dropna()\n",
    "masses03 =  masses03.loc[(masses03[\"N\"] % 2) == 0,]\n",
    "masses03 = masses03.loc[masses03[\"Z\"] > 1]"
   ]
  },
  {
   "cell_type": "code",
   "execution_count": 94,
   "id": "c18b986f",
   "metadata": {},
   "outputs": [],
   "source": [
    "# AME2016\n",
    "masses16 = pd.read_fwf('mass16.txt', usecols=(2,3,4,11),\n",
    "              names=('N', 'Z', 'A', 'avEbind'),\n",
    "              widths=(1,3,5,5,5,1,3,4,1,13,11,11,9,1,2,11,9,1,3,1,12,11,1),\n",
    "              header=39,\n",
    "              index_col=False)\n",
    "masses16['avEbind'] = pd.to_numeric(masses16['avEbind'], errors='coerce')\n",
    "masses16 = masses16.dropna()\n",
    "masses16 = masses16.drop(0)\n",
    "masses16['BE_per_A'] = masses16['avEbind'] / 1000\n",
    "masses16['AME2016'] = masses16['BE_per_A'] * masses16['A']\n",
    "masses16[\"S2n_16\"] = np.nan\n",
    "masses16 = masses16.drop(columns = ['avEbind', 'BE_per_A'])"
   ]
  },
  {
   "cell_type": "code",
   "execution_count": 95,
   "id": "670865ab",
   "metadata": {},
   "outputs": [],
   "source": [
    "for index, row in masses16.iterrows():\n",
    "    if np.any((masses16[\"N\"] == (row[\"N\"] - 2)) & (masses16[\"Z\"] == row[\"Z\"])):\n",
    "        masses16.loc[(masses16[\"N\"] == (row[\"N\"])) & (masses16[\"Z\"] == row[\"Z\"]), \"S2n_16\"] = masses16[(masses16[\"N\"] == (row[\"N\"])) & (masses16[\"Z\"] == row[\"Z\"])][\"AME2016\"].squeeze()  -  masses16[(masses16[\"N\"] == (row[\"N\"] - 2)) & (masses16[\"Z\"] == row[\"Z\"])][\"AME2016\"].squeeze()  \n",
    "masses16 = masses16.dropna()\n",
    "masses16 =  masses16.loc[(masses16[\"N\"] % 2) == 0,]\n",
    "masses16 = masses16.loc[masses16[\"Z\"] > 1]"
   ]
  },
  {
   "cell_type": "code",
   "execution_count": 96,
   "id": "eeca4999",
   "metadata": {},
   "outputs": [
    {
     "name": "stdout",
     "output_type": "stream",
     "text": [
      "        N    Z    A      AME2016     S2n_16      AME2003     S2n_03\n",
      "0       4    2    6    29.271114   0.975454    29.268102   0.972442\n",
      "1       4    3    7    39.245073  12.914413    39.244037  12.913377\n",
      "2       6    2    8    31.396160   2.125046    31.407800   2.139698\n",
      "3       4    4    8    56.499480  29.575998    56.499480  29.575908\n",
      "4       6    3    9    45.339912   6.094839    45.340551   6.096514\n",
      "...   ...  ...  ...          ...        ...          ...        ...\n",
      "1148  154  102  256  1898.635776  13.043916  1898.633984  13.043140\n",
      "1149  156  101  257  1906.318574  11.992679  1906.315233  11.989338\n",
      "1150  154  104  258  1904.694804  14.023700          NaN        NaN\n",
      "1151  156  106  262  1923.390470  14.324350          NaN        NaN\n",
      "1152  158  108  266  1941.340618  14.569618          NaN        NaN\n",
      "\n",
      "[1153 rows x 7 columns]\n"
     ]
    }
   ],
   "source": [
    "masses_merge = pd.merge(masses16, masses03, on = [\"N\", \"Z\", \"A\"], how = \"left\")\n",
    "print(masses_merge)"
   ]
  },
  {
   "cell_type": "code",
   "execution_count": 97,
   "id": "af0824e7",
   "metadata": {},
   "outputs": [],
   "source": [
    "# Adding model evaluations\n",
    "exp = ['exp']\n",
    "models = ['SKM*', 'SKP', 'SLY4', 'SVMIN', 'UNEDF0', 'UNEDF1']\n",
    "xls = pd.ExcelFile('separations_energies_NEW2018.xls')\n",
    "#xls = pd.ExcelFile('separations_energies_AME2003.xls')\n",
    "data_raw = pd.read_excel(xls, header=[0,3], sheet_name = 'S2n')"
   ]
  },
  {
   "cell_type": "code",
   "execution_count": 98,
   "id": "d09d7663",
   "metadata": {},
   "outputs": [],
   "source": [
    "data_raw_sub = data_raw.T.loc[[('-', 'Z'), ('-', 'N'), ('exp', 'measure'), ('exp', 'sd'), (models[0], 'mean'), (models[1], 'mean'),\n",
    "               (models[2], 'mean'),(models[3], 'mean'),(models[4], 'mean'),(models[5], 'mean')]].T\n",
    "data_raw_sub.columns = ['_'.join(col) for col in data_raw_sub.columns.values]\n",
    "data_raw_sub.columns = ['Z', 'N'] + ['exp'] + ['sd'] + models\n",
    "is_na = data_raw_sub[['exp'] + models].notna()\n",
    "is_na = is_na.all(axis = 1)\n",
    "data_raw_sub = data_raw_sub[is_na]\n",
    "data_raw_sub = data_raw_sub.rename(columns={'SKM*': 'SKM'})"
   ]
  },
  {
   "cell_type": "code",
   "execution_count": 99,
   "id": "5e28017a",
   "metadata": {},
   "outputs": [
    {
     "name": "stdout",
     "output_type": "stream",
     "text": [
      "        Z    N      exp       sd      SKM      SKP      SLY4    SVMIN  \\\n",
      "0       2    4  0.97545    5e-05  7.16891  6.17571   5.43824  3.98792   \n",
      "1       2    6  2.12505   0.0001  2.54031  0.97832  0.402399  1.44276   \n",
      "2       3    4  12.9144     0.05  14.9108  14.8107   14.1642  12.0455   \n",
      "3       3    6  6.09484  0.00019  9.23278  7.94095   7.75287  8.18013   \n",
      "4       3    8  0.36928  0.00064  2.20105  1.52635    1.5789  2.72982   \n",
      "...   ...  ...      ...      ...      ...      ...       ...      ...   \n",
      "1156  102  152  14.2907  0.01337  14.4744  13.7689   13.3826  13.8442   \n",
      "1157  102  154  13.0439  0.01232  13.4624  13.2137   12.3785  13.0527   \n",
      "1158  104  154  14.0236   0.0366  14.4146  14.1158   13.3347  13.9626   \n",
      "1159  106  156  14.3244  0.04092  14.7752  14.4959   13.7949  14.2829   \n",
      "1160  108  158  14.5695  0.04828  15.5506  14.8156   14.5353  14.8307   \n",
      "\n",
      "        UNEDF0   UNEDF1      A      AME2016     S2n_16      AME2003     S2n_03  \n",
      "0       5.2988  4.53857    6.0    29.271114   0.975454    29.268102   0.972442  \n",
      "1     0.772771  1.36574    8.0    31.396160   2.125046    31.407800   2.139698  \n",
      "2      14.6631  13.0851    7.0    39.245073  12.914413    39.244037  12.913377  \n",
      "3      7.89672  8.44314    9.0    45.339912   6.094839    45.340551   6.096514  \n",
      "4       1.8809  2.58538   11.0    45.709191   0.369279    45.640144   0.299593  \n",
      "...        ...      ...    ...          ...        ...          ...        ...  \n",
      "1156    13.737  13.6586  254.0  1885.591860  14.290764  1885.590844  14.299324  \n",
      "1157   13.1793  12.7838  256.0  1898.635776  13.043916  1898.633984  13.043140  \n",
      "1158   14.0512  13.6757  258.0  1904.694804  14.023700          NaN        NaN  \n",
      "1159   14.4046  13.9638  262.0  1923.390470  14.324350          NaN        NaN  \n",
      "1160   14.8042  14.6052  266.0  1941.340618  14.569618          NaN        NaN  \n",
      "\n",
      "[1161 rows x 15 columns]\n"
     ]
    }
   ],
   "source": [
    "# This is the final complete set of separation energies to be used for training and testing\n",
    "S2n = pd.merge(data_raw_sub, masses_merge, on = [\"N\", \"Z\"], how = \"left\")\n",
    "print(S2n)"
   ]
  },
  {
   "cell_type": "code",
   "execution_count": 100,
   "id": "379b0902",
   "metadata": {},
   "outputs": [],
   "source": [
    "# Final training and testing set of S2n observations\n",
    "S2n_test = S2n[S2n['S2n_03'].isna()]\n",
    "S2n_train = S2n[np.invert(S2n['S2n_03'].isna())]\n",
    "S2n_test = S2n_test[np.invert(S2n_test[\"S2n_16\"].isna())]"
   ]
  },
  {
   "cell_type": "code",
   "execution_count": 101,
   "id": "25abe522",
   "metadata": {},
   "outputs": [
    {
     "data": {
      "text/html": [
       "<div>\n",
       "<style scoped>\n",
       "    .dataframe tbody tr th:only-of-type {\n",
       "        vertical-align: middle;\n",
       "    }\n",
       "\n",
       "    .dataframe tbody tr th {\n",
       "        vertical-align: top;\n",
       "    }\n",
       "\n",
       "    .dataframe thead th {\n",
       "        text-align: right;\n",
       "    }\n",
       "</style>\n",
       "<table border=\"1\" class=\"dataframe\">\n",
       "  <thead>\n",
       "    <tr style=\"text-align: right;\">\n",
       "      <th></th>\n",
       "      <th>Z</th>\n",
       "      <th>N</th>\n",
       "      <th>exp</th>\n",
       "      <th>sd</th>\n",
       "      <th>SKM</th>\n",
       "      <th>SKP</th>\n",
       "      <th>SLY4</th>\n",
       "      <th>SVMIN</th>\n",
       "      <th>UNEDF0</th>\n",
       "      <th>UNEDF1</th>\n",
       "      <th>A</th>\n",
       "      <th>AME2016</th>\n",
       "      <th>S2n_16</th>\n",
       "      <th>AME2003</th>\n",
       "      <th>S2n_03</th>\n",
       "    </tr>\n",
       "  </thead>\n",
       "  <tbody>\n",
       "    <tr>\n",
       "      <td>14</td>\n",
       "      <td>5</td>\n",
       "      <td>14</td>\n",
       "      <td>0.08871</td>\n",
       "      <td>0.56362</td>\n",
       "      <td>3.09594</td>\n",
       "      <td>0.983308</td>\n",
       "      <td>0.484686</td>\n",
       "      <td>1.24547</td>\n",
       "      <td>1.14065</td>\n",
       "      <td>0.91115</td>\n",
       "      <td>19.0</td>\n",
       "      <td>89.673046</td>\n",
       "      <td>0.088707</td>\n",
       "      <td>NaN</td>\n",
       "      <td>NaN</td>\n",
       "    </tr>\n",
       "    <tr>\n",
       "      <td>21</td>\n",
       "      <td>6</td>\n",
       "      <td>16</td>\n",
       "      <td>0.035</td>\n",
       "      <td>0.02</td>\n",
       "      <td>3.37334</td>\n",
       "      <td>1.3939</td>\n",
       "      <td>1.25564</td>\n",
       "      <td>2.00023</td>\n",
       "      <td>1.94645</td>\n",
       "      <td>1.85528</td>\n",
       "      <td>22.0</td>\n",
       "      <td>119.263694</td>\n",
       "      <td>0.034994</td>\n",
       "      <td>NaN</td>\n",
       "      <td>NaN</td>\n",
       "    </tr>\n",
       "    <tr>\n",
       "      <td>27</td>\n",
       "      <td>7</td>\n",
       "      <td>16</td>\n",
       "      <td>4.65412</td>\n",
       "      <td>0.44142</td>\n",
       "      <td>5.98846</td>\n",
       "      <td>4.3354</td>\n",
       "      <td>4.141</td>\n",
       "      <td>4.63265</td>\n",
       "      <td>4.54357</td>\n",
       "      <td>4.40957</td>\n",
       "      <td>23.0</td>\n",
       "      <td>143.443433</td>\n",
       "      <td>4.654118</td>\n",
       "      <td>NaN</td>\n",
       "      <td>NaN</td>\n",
       "    </tr>\n",
       "    <tr>\n",
       "      <td>40</td>\n",
       "      <td>9</td>\n",
       "      <td>20</td>\n",
       "      <td>1.44273</td>\n",
       "      <td>0.6542</td>\n",
       "      <td>2.40393</td>\n",
       "      <td>1.63955</td>\n",
       "      <td>1.74643</td>\n",
       "      <td>2.24543</td>\n",
       "      <td>2.2461</td>\n",
       "      <td>1.66967</td>\n",
       "      <td>29.0</td>\n",
       "      <td>186.876899</td>\n",
       "      <td>1.442735</td>\n",
       "      <td>NaN</td>\n",
       "      <td>NaN</td>\n",
       "    </tr>\n",
       "    <tr>\n",
       "      <td>48</td>\n",
       "      <td>11</td>\n",
       "      <td>8</td>\n",
       "      <td>38.3865</td>\n",
       "      <td>1.00141</td>\n",
       "      <td>36.0828</td>\n",
       "      <td>37.4923</td>\n",
       "      <td>38.4369</td>\n",
       "      <td>37.5689</td>\n",
       "      <td>36.6198</td>\n",
       "      <td>39.5784</td>\n",
       "      <td>19.0</td>\n",
       "      <td>131.819815</td>\n",
       "      <td>38.386455</td>\n",
       "      <td>NaN</td>\n",
       "      <td>NaN</td>\n",
       "    </tr>\n",
       "    <tr>\n",
       "      <td>...</td>\n",
       "      <td>...</td>\n",
       "      <td>...</td>\n",
       "      <td>...</td>\n",
       "      <td>...</td>\n",
       "      <td>...</td>\n",
       "      <td>...</td>\n",
       "      <td>...</td>\n",
       "      <td>...</td>\n",
       "      <td>...</td>\n",
       "      <td>...</td>\n",
       "      <td>...</td>\n",
       "      <td>...</td>\n",
       "      <td>...</td>\n",
       "      <td>...</td>\n",
       "      <td>...</td>\n",
       "    </tr>\n",
       "    <tr>\n",
       "      <td>1129</td>\n",
       "      <td>96</td>\n",
       "      <td>142</td>\n",
       "      <td>14.5525</td>\n",
       "      <td>0.02198</td>\n",
       "      <td>15.1495</td>\n",
       "      <td>14.497</td>\n",
       "      <td>14.3289</td>\n",
       "      <td>14.5526</td>\n",
       "      <td>14.4385</td>\n",
       "      <td>14.3383</td>\n",
       "      <td>238.0</td>\n",
       "      <td>1796.423048</td>\n",
       "      <td>14.552484</td>\n",
       "      <td>NaN</td>\n",
       "      <td>NaN</td>\n",
       "    </tr>\n",
       "    <tr>\n",
       "      <td>1140</td>\n",
       "      <td>98</td>\n",
       "      <td>144</td>\n",
       "      <td>14.7466</td>\n",
       "      <td>0.02267</td>\n",
       "      <td>15.5253</td>\n",
       "      <td>14.8588</td>\n",
       "      <td>14.5387</td>\n",
       "      <td>14.8458</td>\n",
       "      <td>14.7944</td>\n",
       "      <td>14.5828</td>\n",
       "      <td>242.0</td>\n",
       "      <td>1817.201716</td>\n",
       "      <td>14.746516</td>\n",
       "      <td>NaN</td>\n",
       "      <td>NaN</td>\n",
       "    </tr>\n",
       "    <tr>\n",
       "      <td>1158</td>\n",
       "      <td>104</td>\n",
       "      <td>154</td>\n",
       "      <td>14.0236</td>\n",
       "      <td>0.0366</td>\n",
       "      <td>14.4146</td>\n",
       "      <td>14.1158</td>\n",
       "      <td>13.3347</td>\n",
       "      <td>13.9626</td>\n",
       "      <td>14.0512</td>\n",
       "      <td>13.6757</td>\n",
       "      <td>258.0</td>\n",
       "      <td>1904.694804</td>\n",
       "      <td>14.023700</td>\n",
       "      <td>NaN</td>\n",
       "      <td>NaN</td>\n",
       "    </tr>\n",
       "    <tr>\n",
       "      <td>1159</td>\n",
       "      <td>106</td>\n",
       "      <td>156</td>\n",
       "      <td>14.3244</td>\n",
       "      <td>0.04092</td>\n",
       "      <td>14.7752</td>\n",
       "      <td>14.4959</td>\n",
       "      <td>13.7949</td>\n",
       "      <td>14.2829</td>\n",
       "      <td>14.4046</td>\n",
       "      <td>13.9638</td>\n",
       "      <td>262.0</td>\n",
       "      <td>1923.390470</td>\n",
       "      <td>14.324350</td>\n",
       "      <td>NaN</td>\n",
       "      <td>NaN</td>\n",
       "    </tr>\n",
       "    <tr>\n",
       "      <td>1160</td>\n",
       "      <td>108</td>\n",
       "      <td>158</td>\n",
       "      <td>14.5695</td>\n",
       "      <td>0.04828</td>\n",
       "      <td>15.5506</td>\n",
       "      <td>14.8156</td>\n",
       "      <td>14.5353</td>\n",
       "      <td>14.8307</td>\n",
       "      <td>14.8042</td>\n",
       "      <td>14.6052</td>\n",
       "      <td>266.0</td>\n",
       "      <td>1941.340618</td>\n",
       "      <td>14.569618</td>\n",
       "      <td>NaN</td>\n",
       "      <td>NaN</td>\n",
       "    </tr>\n",
       "  </tbody>\n",
       "</table>\n",
       "<p>120 rows × 15 columns</p>\n",
       "</div>"
      ],
      "text/plain": [
       "        Z    N      exp       sd      SKM       SKP      SLY4    SVMIN  \\\n",
       "14      5   14  0.08871  0.56362  3.09594  0.983308  0.484686  1.24547   \n",
       "21      6   16    0.035     0.02  3.37334    1.3939   1.25564  2.00023   \n",
       "27      7   16  4.65412  0.44142  5.98846    4.3354     4.141  4.63265   \n",
       "40      9   20  1.44273   0.6542  2.40393   1.63955   1.74643  2.24543   \n",
       "48     11    8  38.3865  1.00141  36.0828   37.4923   38.4369  37.5689   \n",
       "...   ...  ...      ...      ...      ...       ...       ...      ...   \n",
       "1129   96  142  14.5525  0.02198  15.1495    14.497   14.3289  14.5526   \n",
       "1140   98  144  14.7466  0.02267  15.5253   14.8588   14.5387  14.8458   \n",
       "1158  104  154  14.0236   0.0366  14.4146   14.1158   13.3347  13.9626   \n",
       "1159  106  156  14.3244  0.04092  14.7752   14.4959   13.7949  14.2829   \n",
       "1160  108  158  14.5695  0.04828  15.5506   14.8156   14.5353  14.8307   \n",
       "\n",
       "       UNEDF0   UNEDF1      A      AME2016     S2n_16  AME2003  S2n_03  \n",
       "14    1.14065  0.91115   19.0    89.673046   0.088707      NaN     NaN  \n",
       "21    1.94645  1.85528   22.0   119.263694   0.034994      NaN     NaN  \n",
       "27    4.54357  4.40957   23.0   143.443433   4.654118      NaN     NaN  \n",
       "40     2.2461  1.66967   29.0   186.876899   1.442735      NaN     NaN  \n",
       "48    36.6198  39.5784   19.0   131.819815  38.386455      NaN     NaN  \n",
       "...       ...      ...    ...          ...        ...      ...     ...  \n",
       "1129  14.4385  14.3383  238.0  1796.423048  14.552484      NaN     NaN  \n",
       "1140  14.7944  14.5828  242.0  1817.201716  14.746516      NaN     NaN  \n",
       "1158  14.0512  13.6757  258.0  1904.694804  14.023700      NaN     NaN  \n",
       "1159  14.4046  13.9638  262.0  1923.390470  14.324350      NaN     NaN  \n",
       "1160  14.8042  14.6052  266.0  1941.340618  14.569618      NaN     NaN  \n",
       "\n",
       "[120 rows x 15 columns]"
      ]
     },
     "execution_count": 101,
     "metadata": {},
     "output_type": "execute_result"
    }
   ],
   "source": [
    "S2n_test"
   ]
  },
  {
   "cell_type": "markdown",
   "id": "689c7acb",
   "metadata": {},
   "source": [
    "### Plotting the data"
   ]
  },
  {
   "cell_type": "code",
   "execution_count": 61,
   "id": "9b4edc2c",
   "metadata": {},
   "outputs": [],
   "source": [
    "# Plotting data\n",
    "Z_range =[0, 110]\n",
    "N_range = [0, 160]\n",
    "\n",
    "Zs = np.linspace(start = Z_range[0], stop = Z_range[1], num=int((Z_range[1] - Z_range[0]) / 2) + 1, endpoint=True)\n",
    "Ns = np.linspace(start = N_range[0], stop = N_range[1], num=int((N_range[1] - N_range[0]) / 2) + 1, endpoint=True)\n",
    "\n",
    "residuals = np.zeros((len(Zs), len(Ns)))\n",
    "\n",
    "#Training data\n",
    "for i in range(len(Zs)):\n",
    "    for j in range(len(Ns)):\n",
    "        fltr = (S2n_train[\"Z\"] == Zs[i]) & (S2n_train[\"N\"] == Ns[j])\n",
    "        row = S2n_train[fltr]\n",
    "        if row.empty != True:\n",
    "            #residuals[i,j] = float(row['Residuals'])\n",
    "            residuals[i,j] = float(1)\n",
    "            \n",
    "#Testing data\n",
    "for i in range(len(Zs)):\n",
    "    for j in range(len(Ns)):\n",
    "        fltr = (S2n_test[\"Z\"] == Zs[i]) & (S2n_test[\"N\"] == Ns[j])\n",
    "        row = S2n_test[fltr]\n",
    "        if row.empty != True:\n",
    "            #residuals[i,j] = float(row['Residuals'])\n",
    "            residuals[i,j] = float(2)"
   ]
  },
  {
   "cell_type": "code",
   "execution_count": 62,
   "id": "e580fcab",
   "metadata": {},
   "outputs": [
    {
     "data": {
      "image/png": "[encoded data removed]",
      "text/plain": [
       "<Figure size 576x360 with 1 Axes>"
      ]
     },
     "metadata": {
      "needs_background": "light"
     },
     "output_type": "display_data"
    }
   ],
   "source": [
    "cmap = ListedColormap(['white','salmon', 'purple'])\n",
    "Z_range =[0, 110]\n",
    "N_range = [0, 160]\n",
    "Zs = np.linspace(start = Z_range[0], stop = Z_range[1], num=int((Z_range[1] - Z_range[0]) / 10) + 1, endpoint=True)\n",
    "Ns = np.linspace(start = N_range[0], stop = N_range[1], num=int((N_range[1] - N_range[0]) / 20) + 1, endpoint=True)\n",
    "fig = plt.figure(figsize=(8, 5)) \n",
    "plt.rcParams.update({'font.size': 17})\n",
    "extent=(0,160,0,110)\n",
    "plt.imshow(np.flip(residuals, axis = 0), extent=extent, cmap=cmap)\n",
    "plt.xticks(Ns.astype(int))\n",
    "plt.yticks(np.flip(Zs.astype(int)))\n",
    "plt.ylabel('Z')\n",
    "plt.xlabel('N')\n",
    "\n",
    "# Legend Part\n",
    "labels = [\"Training\", \"Testing\"]\n",
    "colors = ['salmon', 'purple']\n",
    "patches =[mpatches.Patch(color=colors[i],label=labels[i]) for i in range(2)]\n",
    "\n",
    "plt.legend(handles=patches, loc = 'upper left')\n",
    "plt.savefig('Nuclear_domain.pdf',dpi=500,bbox_inches='tight')\n",
    "plt.show()"
   ]
  },
  {
   "cell_type": "markdown",
   "id": "915933f0",
   "metadata": {},
   "source": [
    "# Fitting single GPS"
   ]
  },
  {
   "cell_type": "code",
   "execution_count": 102,
   "id": "eeb00f20",
   "metadata": {},
   "outputs": [
    {
     "name": "stdout",
     "output_type": "stream",
     "text": [
      "Loss: 971.8565673828125, Step [19/300]\n",
      "beta mean: Parameter containing:\n",
      "tensor([[0.3129]], requires_grad=True) , sigma^2 mean: 0.1763564795255661\n",
      "Minutes remaining 31.10643870579569\n",
      "Loss: 821.7271728515625, Step [39/300]\n",
      "beta mean: Parameter containing:\n",
      "tensor([[0.2232]], requires_grad=True) , sigma^2 mean: 0.04043590649962425\n",
      "Minutes remaining 28.049479088416465\n",
      "Loss: 815.1678466796875, Step [59/300]\n",
      "beta mean: Parameter containing:\n",
      "tensor([[0.2345]], requires_grad=True) , sigma^2 mean: 0.028477052226662636\n",
      "Minutes remaining 25.052574616434885\n",
      "Loss: 825.71337890625, Step [79/300]\n",
      "beta mean: Parameter containing:\n",
      "tensor([[0.2592]], requires_grad=True) , sigma^2 mean: 0.022845758125185966\n",
      "Minutes remaining 22.394073906477995\n",
      "Loss: 814.0117797851562, Step [99/300]\n",
      "beta mean: Parameter containing:\n",
      "tensor([[0.2642]], requires_grad=True) , sigma^2 mean: 0.02116517350077629\n",
      "Minutes remaining 19.70352698335744\n",
      "Loss: 811.537841796875, Step [119/300]\n",
      "beta mean: Parameter containing:\n",
      "tensor([[0.2272]], requires_grad=True) , sigma^2 mean: 0.019906291738152504\n",
      "Minutes remaining 17.506643219488343\n",
      "Loss: 814.8294677734375, Step [139/300]\n",
      "beta mean: Parameter containing:\n",
      "tensor([[0.2168]], requires_grad=True) , sigma^2 mean: 0.019318493083119392\n",
      "Minutes remaining 15.632909916573578\n",
      "Loss: 816.5979614257812, Step [159/300]\n",
      "beta mean: Parameter containing:\n",
      "tensor([[0.3021]], requires_grad=True) , sigma^2 mean: 0.019311681389808655\n",
      "Minutes remaining 13.545336840512618\n",
      "Loss: 813.886474609375, Step [179/300]\n",
      "beta mean: Parameter containing:\n",
      "tensor([[0.3053]], requires_grad=True) , sigma^2 mean: 0.018969973549246788\n",
      "Minutes remaining 11.555885076589425\n",
      "Loss: 811.6066284179688, Step [199/300]\n",
      "beta mean: Parameter containing:\n",
      "tensor([[0.2146]], requires_grad=True) , sigma^2 mean: 0.018486574292182922\n",
      "Minutes remaining 9.474260650268151\n",
      "Loss: 820.1912841796875, Step [219/300]\n",
      "beta mean: Parameter containing:\n",
      "tensor([[0.2533]], requires_grad=True) , sigma^2 mean: 0.019198011606931686\n",
      "Minutes remaining 7.578001556004564\n",
      "Loss: 810.8184204101562, Step [239/300]\n",
      "beta mean: Parameter containing:\n",
      "tensor([[0.2580]], requires_grad=True) , sigma^2 mean: 0.018004899844527245\n",
      "Minutes remaining 5.653271333476323\n",
      "Loss: 810.8046264648438, Step [259/300]\n",
      "beta mean: Parameter containing:\n",
      "tensor([[0.2758]], requires_grad=True) , sigma^2 mean: 0.018183203414082527\n",
      "Minutes remaining 3.787515053862617\n",
      "Loss: 813.8544921875, Step [279/300]\n",
      "beta mean: Parameter containing:\n",
      "tensor([[0.2923]], requires_grad=True) , sigma^2 mean: 0.018413396552205086\n",
      "Minutes remaining 1.9297709455199565\n",
      "Loss: 815.1494140625, Step [299/300]\n",
      "beta mean: Parameter containing:\n",
      "tensor([[0.2796]], requires_grad=True) , sigma^2 mean: 0.018038561567664146\n",
      "Minutes remaining 0.0911599638204245\n",
      "1635.4097509384155\n"
     ]
    }
   ],
   "source": [
    "model_name = \"UNEDF1\"\n",
    "torch.manual_seed(2)\n",
    "residuals = S2n_train[\"S2n_16\"] - S2n_train[model_name]\n",
    "x_train = torch.tensor(S2n_train[[\"Z\", \"N\"]].to_numpy(float), dtype = torch.float)\n",
    "y_train = torch.tensor(residuals.to_numpy(float).flatten(), dtype = torch.float)\n",
    "model = MCElbo(nMC= 10, x_dim = x_train.shape[1], N = x_train.shape[0])\n",
    "\n",
    "learning_rate = 5e-2\n",
    "optimizer = torch.optim.RMSprop(model.parameters(), lr = learning_rate)\n",
    "n_steps = 300\n",
    "\n",
    "loss_array = np.zeros(n_steps)\n",
    "time_array = np.zeros(n_steps)\n",
    "param_dictionary = {}\n",
    "\n",
    "for name, param in model.named_parameters():\n",
    "    param_dictionary[name] = []\n",
    "    \n",
    "startTime = time.time()\n",
    "for t in range(n_steps):\n",
    "    # Compute prediction\n",
    "    loss = - model.compute_elbo_loop(x_train, y_train)\n",
    "    # Compute loss\n",
    "    # Zero gradinets\n",
    "    optimizer.zero_grad()\n",
    "    # Compute gradients\n",
    "    loss.backward()\n",
    "    optimizer.step()\n",
    "    loss_array[t] = loss.item()\n",
    "    time_array[t] = time.time() - startTime\n",
    "    \n",
    "    if t % 5 == 4: \n",
    "        for name, param in model.named_parameters():\n",
    "            param_dictionary[name] = param_dictionary[name] + [param.detach().clone().numpy()]\n",
    "    \n",
    "    if t % 20 == 19:\n",
    "        print(f\"Loss: {loss.item()}, Step [{t}/{n_steps}]\")\n",
    "        print(model.ModelString())\n",
    "        # Time estimmate\n",
    "        print(f\"Minutes remaining {(time.time() - startTime) * (n_steps - t) / (t * 60)}\")\n",
    "        \n",
    "endTime = time.time()\n",
    "print(endTime - startTime)\n",
    "\n",
    "folder = \"Masses_RMS_\" + model_name\n",
    "\n",
    "if not os.path.exists(folder):\n",
    "    os.makedirs(folder)\n",
    "\n",
    "## Saving Model State Dictionary\n",
    "torch.save(model.state_dict(), folder + \"\\model_state_\"  +\".pth\")\n",
    "## Saving Optimizer State Dictionary\n",
    "torch.save(optimizer.state_dict(), folder + \"\\optimizer_state_\"  +\".pth\")\n",
    "## Saving Parameters, Time, and Loss arrays\n",
    "dictionary_outputs = copy.deepcopy(param_dictionary)\n",
    "dictionary_outputs[\"ELBO\"] = -loss_array\n",
    "dictionary_outputs[\"time\"] = time_array\n",
    "with open(folder + \"\\outputs_\" + \"vars_\" + '.pickle', 'wb') as handle:\n",
    "    pkl.dump(dictionary_outputs, handle, protocol=pkl.HIGHEST_PROTOCOL)"
   ]
  },
  {
   "cell_type": "code",
   "execution_count": 81,
   "id": "e86f0141",
   "metadata": {},
   "outputs": [
    {
     "data": {
      "image/png": "[encoded data removed]",
      "text/plain": [
       "<Figure size 432x288 with 1 Axes>"
      ]
     },
     "metadata": {
      "needs_background": "light"
     },
     "output_type": "display_data"
    },
    {
     "data": {
      "image/png": "[encoded data removed]",
      "text/plain": [
       "<Figure size 432x288 with 1 Axes>"
      ]
     },
     "metadata": {
      "needs_background": "light"
     },
     "output_type": "display_data"
    }
   ],
   "source": [
    "plt.plot(np.array(param_dictionary['q_ls_d_m']).reshape((len(np.array(param_dictionary['q_ls_d_m'])), 2)))\n",
    "plt.show()\n",
    "plt.plot(np.array(param_dictionary['q_ls_d_s']).reshape((len(np.array(param_dictionary['q_ls_d_s'])), 2)))\n",
    "plt.show()"
   ]
  },
  {
   "cell_type": "code",
   "execution_count": 107,
   "id": "209aa5ab",
   "metadata": {},
   "outputs": [],
   "source": [
    "# Printing posterior distributions\n",
    "model.nMC = 100000\n",
    "z = model.generate_sample(n_var = model.param_dim)\n",
    "sigma2 = model.sample_reparam_logNormal(z[:, 0], model.q_sigma2_m, model.q_sigma2_s)\n",
    "beta_d = model.sample_reparam_normal(z[:, 1], model.q_beta_d_m, model.q_beta_d_s)\n",
    "eta_d = model.sample_reparam_logNormal(z[:, 2], model.q_eta_d_m, model.q_eta_d_s)\n",
    "ls_d = model.sample_reparam_logNormal(z[:, 3:(3 + model.x_dim)], model.q_ls_d_m, model.q_ls_d_s)"
   ]
  },
  {
   "cell_type": "code",
   "execution_count": 83,
   "id": "56a1a98a",
   "metadata": {},
   "outputs": [
    {
     "data": {
      "text/plain": [
       "<AxesSubplot:ylabel='Count'>"
      ]
     },
     "execution_count": 83,
     "metadata": {},
     "output_type": "execute_result"
    },
    {
     "data": {
      "image/png": "[encoded data removed]",
      "text/plain": [
       "<Figure size 432x288 with 1 Axes>"
      ]
     },
     "metadata": {
      "needs_background": "light"
     },
     "output_type": "display_data"
    }
   ],
   "source": [
    "sns.histplot(beta_d.squeeze().detach().numpy())"
   ]
  },
  {
   "cell_type": "code",
   "execution_count": 84,
   "id": "71dfb811",
   "metadata": {},
   "outputs": [
    {
     "data": {
      "text/plain": [
       "<AxesSubplot:ylabel='Count'>"
      ]
     },
     "execution_count": 84,
     "metadata": {},
     "output_type": "execute_result"
    },
    {
     "data": {
      "image/png": "[encoded data removed]",
      "text/plain": [
       "<Figure size 432x288 with 1 Axes>"
      ]
     },
     "metadata": {
      "needs_background": "light"
     },
     "output_type": "display_data"
    }
   ],
   "source": [
    "sns.histplot(np.sqrt(sigma2.squeeze().detach().numpy()))"
   ]
  },
  {
   "cell_type": "code",
   "execution_count": 108,
   "id": "37f5127f",
   "metadata": {},
   "outputs": [],
   "source": [
    "# Posterior samples dictionary\n",
    "posteriors_dictionary_sample = {}\n",
    "posteriors_dictionary_sample['sigma'] = np.sqrt(sigma2.squeeze().detach().numpy())\n",
    "posteriors_dictionary_sample['sigma2'] = sigma2.squeeze().detach().numpy()\n",
    "posteriors_dictionary_sample['ls'] = ls_d.squeeze().detach().numpy()\n",
    "posteriors_dictionary_sample['beta'] = beta_d.squeeze().detach().numpy()\n",
    "posteriors_dictionary_sample['eta'] = eta_d.squeeze().detach().numpy()\n",
    "with open(folder + \"\\posterior_samples\" + '.pickle', 'wb') as handle:\n",
    "    pkl.dump(posteriors_dictionary_sample, handle, protocol=pkl.HIGHEST_PROTOCOL)"
   ]
  },
  {
   "cell_type": "code",
   "execution_count": 57,
   "id": "ff849d16",
   "metadata": {},
   "outputs": [
    {
     "data": {
      "text/plain": [
       "array([[1.2048815 , 0.36792758],\n",
       "       [1.1836001 , 0.6617339 ],\n",
       "       [1.2580775 , 0.2901921 ],\n",
       "       ...,\n",
       "       [1.2099622 , 0.46044743],\n",
       "       [1.2500861 , 0.43205118],\n",
       "       [1.2260642 , 0.28720143]], dtype=float32)"
      ]
     },
     "execution_count": 57,
     "metadata": {},
     "output_type": "execute_result"
    }
   ],
   "source": [
    "posteriors_dictionary_sample['ls']"
   ]
  },
  {
   "cell_type": "markdown",
   "id": "f4f7cf0c",
   "metadata": {},
   "source": [
    "# Loading simple average"
   ]
  },
  {
   "cell_type": "code",
   "execution_count": 89,
   "id": "a18959a8",
   "metadata": {},
   "outputs": [
    {
     "data": {
      "image/png": "[encoded data removed]",
      "text/plain": [
       "<Figure size 576x360 with 1 Axes>"
      ]
     },
     "metadata": {
      "needs_background": "light"
     },
     "output_type": "display_data"
    },
    {
     "name": "stdout",
     "output_type": "stream",
     "text": [
      "[-1065.78798584  -974.51140991 -1017.36243347  -893.51800293\n",
      "  -892.52681702  -810.93091858]\n",
      "[nan nan nan nan nan nan]\n"
     ]
    },
    {
     "name": "stderr",
     "output_type": "stream",
     "text": [
      "C:\\Users\\Vojtech\\Anaconda3\\lib\\site-packages\\ipykernel_launcher.py:25: RuntimeWarning: invalid value encountered in true_divide\n"
     ]
    }
   ],
   "source": [
    "# Loading saved data and computing model weights\n",
    "model_space = ['SKM', 'SKP', 'SLY4', 'SVMIN', 'UNEDF0', 'UNEDF1']\n",
    "ELBO_dictionary ={}\n",
    "ELBO_average = np.zeros(len(model_space))\n",
    "fig = plt.figure(figsize=(8, 5)) \n",
    "lw = 2\n",
    "plt.rcParams.update({'font.size': 17})\n",
    "for i in range(len(model_space)):\n",
    "    folder = \"Masses_\" + model_space[i]\n",
    "    with open(folder + \"\\outputs_\" + \"vars_\" + '.pickle', 'rb') as handle:\n",
    "        dictionary_outputs = pkl.load(handle)\n",
    "    ELBO_dictionary[str(i)] = dictionary_outputs[\"ELBO\"]\n",
    "    ELBO_average[i] = np.mean(dictionary_outputs[\"ELBO\"][-100:])\n",
    "    if model_space[i] != 'SKM':\n",
    "        plt.plot(dictionary_outputs[\"ELBO\"][10:], label =model_space[i], lw = lw )\n",
    "    else:\n",
    "        plt.plot(dictionary_outputs[\"ELBO\"][10:], label ='SKM*' , lw = lw)\n",
    "plt.ylabel('ELBO')\n",
    "plt.xlabel('Iteration')\n",
    "plt.legend(bbox_to_anchor=(1.04,1), loc=\"upper left\")\n",
    "plt.savefig('Nuclear_ELBO.pdf',dpi=500,bbox_inches='tight')\n",
    "plt.show()\n",
    "\n",
    "print(ELBO_average)\n",
    "print(np.exp(ELBO_average) / np.sum(np.exp(ELBO_average)))"
   ]
  },
  {
   "cell_type": "code",
   "execution_count": 116,
   "id": "12482069",
   "metadata": {},
   "outputs": [
    {
     "data": {
      "image/png": "[encoded data removed]",
      "text/plain": [
       "<Figure size 576x360 with 1 Axes>"
      ]
     },
     "metadata": {
      "needs_background": "light"
     },
     "output_type": "display_data"
    },
    {
     "name": "stdout",
     "output_type": "stream",
     "text": [
      "[-1066.51707031  -975.22774109 -1018.15772949  -894.74145203\n",
      "  -893.70679688  -812.11951294]\n",
      "[nan nan nan nan nan nan]\n"
     ]
    },
    {
     "name": "stderr",
     "output_type": "stream",
     "text": [
      "C:\\Users\\Vojtech\\Anaconda3\\lib\\site-packages\\ipykernel_launcher.py:26: RuntimeWarning: invalid value encountered in true_divide\n"
     ]
    }
   ],
   "source": [
    "# Loading saved data and computing model weights\n",
    "model_space = ['SKM', 'SKP', 'SLY4', 'SVMIN', 'UNEDF0', 'UNEDF1']\n",
    "ELBO_dictionary ={}\n",
    "ELBO_average = np.zeros(len(model_space))\n",
    "fig = plt.figure(figsize=(8, 5)) \n",
    "lw = 2\n",
    "plt.rcParams.update({'font.size': 17})\n",
    "for i in range(len(model_space)):\n",
    "    folder = \"Masses_RMS_\" + model_space[i]\n",
    "    with open(folder + \"\\outputs\" + '.pickle', 'rb') as handle:\n",
    "        dictionary_outputs = pkl.load(handle)\n",
    "    ELBO_dictionary[str(i)] = dictionary_outputs[\"ELBO\"]\n",
    "    ELBO_average[i] = np.mean(dictionary_outputs[\"ELBO\"][-100:])\n",
    "    if model_space[i] != 'SKM':\n",
    "        plt.plot(dictionary_outputs[\"ELBO\"][10:], label =model_space[i], lw = lw )\n",
    "    else:\n",
    "        plt.plot(dictionary_outputs[\"ELBO\"][10:], label ='SKM*' , lw = lw)\n",
    "plt.ylabel('ELBO')\n",
    "plt.xlabel('Iteration')\n",
    "plt.ylim([-1215,-785])\n",
    "plt.legend(bbox_to_anchor=(1.04,1), loc=\"upper left\")\n",
    "plt.savefig('Nuclear_ELBO_RMS.pdf',dpi=500,bbox_inches='tight')\n",
    "plt.show()\n",
    "\n",
    "print(ELBO_average)\n",
    "print(np.exp(ELBO_average) / np.sum(np.exp(ELBO_average)))"
   ]
  }
 ],
 "metadata": {
  "kernelspec": {
   "display_name": "Python 3 (ipykernel)",
   "language": "python",
   "name": "python3"
  },
  "language_info": {
   "codemirror_mode": {
    "name": "ipython",
    "version": 3
   },
   "file_extension": ".py",
   "mimetype": "text/x-python",
   "name": "python",
   "nbconvert_exporter": "python",
   "pygments_lexer": "ipython3",
   "version": "3.9.13"
  },
  "latex_envs": {
   "LaTeX_envs_menu_present": true,
   "autoclose": false,
   "autocomplete": true,
   "bibliofile": "biblio.bib",
   "cite_by": "apalike",
   "current_citInitial": 1,
   "eqLabelWithNumbers": true,
   "eqNumInitial": 1,
   "hotkeys": {
    "equation": "Ctrl-E",
    "itemize": "Ctrl-I"
   },
   "labels_anchors": false,
   "latex_user_defs": false,
   "report_style_numbering": false,
   "user_envs_cfg": false
  }
 },
 "nbformat": 4,
 "nbformat_minor": 5
}
